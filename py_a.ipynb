{
  "nbformat": 4,
  "nbformat_minor": 0,
  "metadata": {
    "colab": {
      "provenance": [],
      "authorship_tag": "ABX9TyNNkDqyMjb1fgdgX6gkRP4F",
      "include_colab_link": true
    },
    "kernelspec": {
      "name": "python3",
      "display_name": "Python 3"
    },
    "language_info": {
      "name": "python"
    }
  },
  "cells": [
    {
      "cell_type": "markdown",
      "metadata": {
        "id": "view-in-github",
        "colab_type": "text"
      },
      "source": [
        "<a href=\"https://colab.research.google.com/github/Yoonwoongbae/phython2/blob/main/py_a.ipynb\" target=\"_parent\"><img src=\"https://colab.research.google.com/assets/colab-badge.svg\" alt=\"Open In Colab\"/></a>"
      ]
    },
    {
      "cell_type": "code",
      "execution_count": null,
      "metadata": {
        "id": "ScOpXUR4h4MW"
      },
      "outputs": [],
      "source": []
    },
    {
      "cell_type": "markdown",
      "source": [
        "# CH1. 파이썬 문법\n",
        "## 자료형\n",
        "\n",
        "**숫자형** \n",
        "* 정수 : 123,456, 0 , 130\n",
        "* 실수 : 12.345, -987,65,0,7e6  \n",
        "* 8진수 : 0o765, 0o123  \n",
        "* 16wlstn : 0x00, 0x0A, 0xff\n",
        "\n",
        "**변수**\n",
        "* 문자 또는 밑줄로 시작(_Yoon. alpha)\n",
        "* 대소문자 구분(sum, Sum, SUM)\n",
        "* 영문자. 숫자. 밑줄(A-z, 0-9, _)\n",
        "  ex) sun_9, Alpha, s9n)  \n",
        "* 파이썬 키워드 (print...) \n",
        "\n",
        "**표기법**\n",
        "+ 카멜(낙타) : myName\n",
        "+ 스네이크(뱀) : my_name\n",
        "+ 파스칼 : MyName"
      ],
      "metadata": {
        "id": "P2Ln-K07isPa"
      }
    },
    {
      "cell_type": "code",
      "source": [
        "a = 10  \n",
        "b = 20  \n",
        "f = \"10\"  \n",
        "c = a + b  \n",
        "print(a,b,c,f)"
      ],
      "metadata": {
        "colab": {
          "base_uri": "https://localhost:8080/"
        },
        "id": "o3PLSdWVlYTB",
        "outputId": "6bf7719c-a4a7-40b0-b416-9d1c0a4579aa"
      },
      "execution_count": null,
      "outputs": [
        {
          "output_type": "stream",
          "name": "stdout",
          "text": [
            "10 20 30 10\n"
          ]
        }
      ]
    },
    {
      "cell_type": "code",
      "source": [
        "a = 10 \n",
        "b = 20\n",
        "c= \"10\" \n",
        "d=  \"20\" \n",
        "print(a+b)\n",
        "print(type(a))\n",
        "print(type(c))\n",
        "print(c+d)  \n",
        "print(c,d)"
      ],
      "metadata": {
        "colab": {
          "base_uri": "https://localhost:8080/"
        },
        "id": "_3Mu_4Bql908",
        "outputId": "02a98492-9b57-4dd9-93eb-87538e5f17ed"
      },
      "execution_count": null,
      "outputs": [
        {
          "output_type": "stream",
          "name": "stdout",
          "text": [
            "30\n",
            "<class 'int'>\n",
            "<class 'str'>\n",
            "1020\n",
            "10 20\n"
          ]
        }
      ]
    },
    {
      "cell_type": "code",
      "source": [
        "#변수 \n",
        "myName = \"Yoon woong bae\"\n",
        "my_name = \"윤웅배\"\n",
        "_my_navme = \"korea\"\n",
        "MYNAME = \"코리아\"\n",
        "my2name = \"kikiki\"\n",
        "# 2myname = \"하하하\"\n",
        "# my-name = \"마이너스\"\n",
        "# my name = \"스페이스\"\n",
        "myName1 = 1234\n",
        "myName2 = \"1234\"\n",
        "print(type(myName1))\n",
        "print(type(myName2))"
      ],
      "metadata": {
        "colab": {
          "base_uri": "https://localhost:8080/"
        },
        "id": "JAr0XQZWtZD3",
        "outputId": "fad6fd86-5a7c-49d1-aa08-31526676102e"
      },
      "execution_count": null,
      "outputs": [
        {
          "output_type": "stream",
          "name": "stdout",
          "text": [
            "<class 'int'>\n",
            "<class 'str'>\n"
          ]
        }
      ]
    },
    {
      "cell_type": "code",
      "source": [
        "a=b=c= \"브라보콘\"\n",
        "print(a)\n",
        "print(b)\n",
        "print(c)"
      ],
      "metadata": {
        "colab": {
          "base_uri": "https://localhost:8080/"
        },
        "id": "BVh1meNFvFB3",
        "outputId": "2a9eb4a6-d0de-460c-807e-700d05f4e5a1"
      },
      "execution_count": null,
      "outputs": [
        {
          "output_type": "stream",
          "name": "stdout",
          "text": [
            "브라보콘\n",
            "브라보콘\n",
            "브라보콘\n"
          ]
        }
      ]
    },
    {
      "cell_type": "code",
      "source": [
        "x,y,z = \"딸기\",\"포도\",\"바나나\"\n",
        "print(x)\n",
        "print(y)\n",
        "print(z)"
      ],
      "metadata": {
        "colab": {
          "base_uri": "https://localhost:8080/"
        },
        "id": "VQL1T-f2vQqQ",
        "outputId": "5ae72116-125c-4bb4-9817-e97f1f653224"
      },
      "execution_count": null,
      "outputs": [
        {
          "output_type": "stream",
          "name": "stdout",
          "text": [
            "딸기\n",
            "포도\n",
            "바나나\n"
          ]
        }
      ]
    },
    {
      "cell_type": "code",
      "source": [
        "fruits = [\"누가바\", \"쌍쌍바\",\"보석바\"]\n",
        "x,y,z = fruits\n",
        "print(x)\n",
        "print(y)\n",
        "print(z)"
      ],
      "metadata": {
        "colab": {
          "base_uri": "https://localhost:8080/"
        },
        "id": "fkNCx3Icv4wL",
        "outputId": "90d377d5-a78c-4832-902e-dc0cf882c7a8"
      },
      "execution_count": null,
      "outputs": [
        {
          "output_type": "stream",
          "name": "stdout",
          "text": [
            "누가바\n",
            "쌍쌍바\n",
            "보석바\n"
          ]
        }
      ]
    },
    {
      "cell_type": "code",
      "source": [
        "x = \"Lite\"\n",
        "y = \"is\"\n",
        "z = \"beautiful!\"\n",
        "print(x,y,z)\n",
        "print(x+y+z)"
      ],
      "metadata": {
        "colab": {
          "base_uri": "https://localhost:8080/"
        },
        "id": "OwStGX_EwexS",
        "outputId": "634704f2-72c4-4df2-e5ac-388608236cd4"
      },
      "execution_count": null,
      "outputs": [
        {
          "output_type": "stream",
          "name": "stdout",
          "text": [
            "Lite is beautiful!\n",
            "Liteisbeautiful!\n"
          ]
        }
      ]
    },
    {
      "cell_type": "code",
      "source": [
        "a = 1\n",
        "b = 2 \n",
        "c = 3 \n",
        "print(a+b+c)\n",
        "print(a,b,c)"
      ],
      "metadata": {
        "colab": {
          "base_uri": "https://localhost:8080/"
        },
        "id": "kobh7j60xDgA",
        "outputId": "107b223b-4e3d-4d9d-935d-e8ab5f298772"
      },
      "execution_count": null,
      "outputs": [
        {
          "output_type": "stream",
          "name": "stdout",
          "text": [
            "6\n",
            "1 2 3\n"
          ]
        }
      ]
    },
    {
      "cell_type": "code",
      "source": [
        "# 나눗셈\n",
        "a = 10\n",
        "b = 3\n",
        "c = a / b\n",
        "d = a // b # 몫\n",
        "e = a % b # 나머지\n",
        "print(c)\n",
        "print(d)\n",
        "print(e)"
      ],
      "metadata": {
        "colab": {
          "base_uri": "https://localhost:8080/"
        },
        "id": "4peBoZcc3Mla",
        "outputId": "ad3a5e39-5b3a-4b83-f93c-0cec8c4b0ea2"
      },
      "execution_count": null,
      "outputs": [
        {
          "output_type": "stream",
          "name": "stdout",
          "text": [
            "3.3333333333333335\n",
            "3\n",
            "1\n"
          ]
        }
      ]
    },
    {
      "cell_type": "code",
      "source": [
        "# 곱셈\n",
        "a = 10\n",
        "b = 3\n",
        "c = a * b #곱하기\n",
        "d = a ** b # 제곱\n",
        "print (c,d)"
      ],
      "metadata": {
        "colab": {
          "base_uri": "https://localhost:8080/"
        },
        "id": "Qu46pyDm3SC8",
        "outputId": "9fe88e4b-4f35-4d1c-d543-8a226143bc0e"
      },
      "execution_count": null,
      "outputs": [
        {
          "output_type": "stream",
          "name": "stdout",
          "text": [
            "30 1000\n"
          ]
        }
      ]
    },
    {
      "cell_type": "markdown",
      "source": [
        "#### 문자열\n",
        "1. 큰 따옴표 : \"윤웅배\"\n",
        "2. 작은 따옴표 : '윤웅배'\n",
        "3. 큰 따옴표 3개 : \"\"\"윤웅배\"\"\"\n",
        "4. 작은 따옴표 3개 : '''윤웅배'''\n",
        "5. \" 동해물과 백두산이 마르고 닳도록 우리나라 좋은나라 \"  "
      ],
      "metadata": {
        "id": "yiTdNmT43ZgD"
      }
    },
    {
      "cell_type": "markdown",
      "source": [
        "# 데이터 바꾸기"
      ],
      "metadata": {
        "id": "jccqtXry77BT"
      }
    },
    {
      "cell_type": "code",
      "source": [
        "a = 1 ; b = 2\n",
        "a ,b = b,a\n",
        "print(a,b)"
      ],
      "metadata": {
        "colab": {
          "base_uri": "https://localhost:8080/"
        },
        "id": "YSULrx068BLm",
        "outputId": "db92273c-e577-4c68-ff5b-51134b226cc6"
      },
      "execution_count": null,
      "outputs": [
        {
          "output_type": "stream",
          "name": "stdout",
          "text": [
            "2 1\n"
          ]
        }
      ]
    },
    {
      "cell_type": "code",
      "source": [
        "b = 2 ; C = 3\n",
        "f = b + c\n",
        "c\n",
        "print(f)"
      ],
      "metadata": {
        "colab": {
          "base_uri": "https://localhost:8080/"
        },
        "id": "UPnuEW-78qn5",
        "outputId": "f5ccc8f0-bfb8-49d2-937e-5a138a881c5e"
      },
      "execution_count": null,
      "outputs": [
        {
          "output_type": "stream",
          "name": "stdout",
          "text": [
            "32\n"
          ]
        }
      ]
    },
    {
      "cell_type": "code",
      "source": [
        "# len()\n",
        "a = \"123456\"\n",
        "b = [2,3,4,5]\n",
        "print(len(a))\n",
        "print(len(b))"
      ],
      "metadata": {
        "colab": {
          "base_uri": "https://localhost:8080/"
        },
        "id": "g1s98aVB9TS8",
        "outputId": "49bf6db8-597c-46c0-ced8-dba5410bf9b5"
      },
      "execution_count": null,
      "outputs": [
        {
          "output_type": "stream",
          "name": "stdout",
          "text": [
            "6\n",
            "4\n"
          ]
        }
      ]
    },
    {
      "cell_type": "code",
      "source": [
        "a = 100\n",
        "b = 200\n",
        "result = a+b  \n",
        "print(a,'+',b,'=',result)\n",
        "result = a - b\n",
        "print(a,'-',b,'=',result)\n",
        "result = a / b\n",
        "print(a,'/',b,'=',result)\n",
        "result = a * b\n",
        "print(a,'*',b,'=',result)"
      ],
      "metadata": {
        "colab": {
          "base_uri": "https://localhost:8080/"
        },
        "id": "ZzqNtScs9uxT",
        "outputId": "b14db8d0-c3ec-4ba8-bfaa-9b1435c0c5e5"
      },
      "execution_count": null,
      "outputs": [
        {
          "output_type": "stream",
          "name": "stdout",
          "text": [
            "100 + 200 = 300\n",
            "100 - 200 = -100\n",
            "100 / 200 = 0.5\n",
            "100 * 200 = 20000\n"
          ]
        }
      ]
    },
    {
      "cell_type": "code",
      "source": [
        "a = \"1234\"\n",
        "b = 5678\n",
        "c = int(a) + b\n",
        "print(c)"
      ],
      "metadata": {
        "colab": {
          "base_uri": "https://localhost:8080/"
        },
        "id": "IbTtGfe3AxYm",
        "outputId": "480a96df-2c9a-423b-a777-03cd4034d59b"
      },
      "execution_count": null,
      "outputs": [
        {
          "output_type": "stream",
          "name": "stdout",
          "text": [
            "6912\n"
          ]
        }
      ]
    },
    {
      "cell_type": "code",
      "source": [
        "# 계산기 2\n",
        "num1 = int(input(\"숫자입력1: \"))\n",
        "num2 = int(input(\"숫자입력2: \"))\n",
        "\n",
        "print(type(num1))\n",
        "result = num1 + num2\n",
        "print(result)"
      ],
      "metadata": {
        "colab": {
          "base_uri": "https://localhost:8080/"
        },
        "id": "aIH8zdM7BLWF",
        "outputId": "db57746e-c481-4d74-a517-cc340184388e"
      },
      "execution_count": null,
      "outputs": [
        {
          "output_type": "stream",
          "name": "stdout",
          "text": [
            "숫자입력1: 2\n",
            "숫자입력2: 3\n",
            "<class 'int'>\n",
            "5\n"
          ]
        }
      ]
    },
    {
      "cell_type": "code",
      "source": [
        "# 계산기 3\n",
        "num1 = int(input(\"숫자입력1: \"))\n",
        "num2 = int(input(\"숫자입력2: \"))\n",
        "a = int(num1)\n",
        "b = int(num2)\n",
        "result = a+b  \n",
        "print(a,'+',b,'=',result)\n",
        "result = a - b\n",
        "print(a,'-',b,'=',result)\n",
        "result = a / b\n",
        "print(a,'/',b,'=',result)\n",
        "result = a * b\n",
        "print(a,'*',b,'=',result)"
      ],
      "metadata": {
        "colab": {
          "base_uri": "https://localhost:8080/"
        },
        "id": "HI68j5AoB-S8",
        "outputId": "680315d8-8ce8-4fe8-f6d6-eedd44144328"
      },
      "execution_count": null,
      "outputs": [
        {
          "output_type": "stream",
          "name": "stdout",
          "text": [
            "숫자입력1: 2\n",
            "숫자입력2: 3\n",
            "2 + 3 = 5\n",
            "2 - 3 = -1\n",
            "2 / 3 = 0.6666666666666666\n",
            "2 * 3 = 6\n"
          ]
        }
      ]
    },
    {
      "cell_type": "code",
      "source": [
        "# 자기이름 전화번호 택배(g)x100\n",
        "name = input(\"이름: \")\n",
        "result = name \n",
        "number = input(\"전화번호: \")\n",
        "result = number \n",
        "num1 = int(input(\"택배(g)x100: \"))\n",
        "a= int(num1)\n",
        "result = int(num1)*100\n",
        "print(\"결과값 = \",a,\"x100원=\", result, \"입니다\")"
      ],
      "metadata": {
        "colab": {
          "base_uri": "https://localhost:8080/"
        },
        "id": "Rm6aykTMDktn",
        "outputId": "b7017563-45bc-40f1-c5eb-4fd05d67dc8a"
      },
      "execution_count": null,
      "outputs": [
        {
          "output_type": "stream",
          "name": "stdout",
          "text": [
            "이름: 윤웅배\n",
            "전화번호: 01085233967\n",
            "택배(g)x100: 2\n",
            "결과값 =  2 x100원= 200 입니다\n"
          ]
        }
      ]
    },
    {
      "cell_type": "markdown",
      "source": [
        "CH2. 서식 출력\n"
      ],
      "metadata": {
        "id": "0GszedXHiYRn"
      }
    },
    {
      "cell_type": "code",
      "source": [
        "print(\"%d\" % 123)\n",
        "print(\"%5d\" % 123)\n",
        "print(\"%05d\" % 123)\n",
        "\n",
        "print(\"%f\" % 123.45)\n",
        "print(\"%7.1f\" % 123.45)\n",
        "print(\"%7.3f\" % 123.45)\n",
        "\n",
        "\n",
        "print(\"%c\" % \"1\")\n",
        "print(\"%s\" % \"가나다라\")\n",
        "print(\"%6s\" % \"가나다라\")\n",
        "print(\"%6s\" % \"abcd\")"
      ],
      "metadata": {
        "colab": {
          "base_uri": "https://localhost:8080/"
        },
        "id": "Ynl3Si7Uifve",
        "outputId": "0a3d8c39-94eb-4755-8070-1dda81d27764"
      },
      "execution_count": null,
      "outputs": [
        {
          "output_type": "stream",
          "name": "stdout",
          "text": [
            "123\n",
            "  123\n",
            "00123\n",
            "123.450000\n",
            "00123.5\n",
            "123.450\n",
            "1\n",
            "가나다라\n",
            "  가나다라\n",
            "  abcd\n"
          ]
        }
      ]
    },
    {
      "cell_type": "markdown",
      "source": [
        "#### 순서 지정 기능 : format"
      ],
      "metadata": {
        "id": "u5G2Yhi3kOtK"
      }
    },
    {
      "cell_type": "code",
      "source": [
        "print(\"{0:d} {1:5d} {2:05d}\" .format(123,456,789))"
      ],
      "metadata": {
        "colab": {
          "base_uri": "https://localhost:8080/"
        },
        "id": "wcgXTBn-kUgr",
        "outputId": "c8e553d0-45a0-425c-bc9b-923105da658c"
      },
      "execution_count": null,
      "outputs": [
        {
          "output_type": "stream",
          "name": "stdout",
          "text": [
            "123   456 00789\n"
          ]
        }
      ]
    },
    {
      "cell_type": "code",
      "source": [
        "print(\"{2:d} {1:5d} {0:05d}\" .format(123,456,789))"
      ],
      "metadata": {
        "colab": {
          "base_uri": "https://localhost:8080/"
        },
        "id": "7zzYsWuok-rk",
        "outputId": "ea1ca317-83ca-4f6e-e8a3-44dc22bf80a4"
      },
      "execution_count": null,
      "outputs": [
        {
          "output_type": "stream",
          "name": "stdout",
          "text": [
            "789   456 00123\n"
          ]
        }
      ]
    },
    {
      "cell_type": "markdown",
      "source": [
        "서식출력력"
      ],
      "metadata": {
        "id": "4I_k-WBQlFJk"
      }
    },
    {
      "cell_type": "code",
      "source": [
        "print(\"\\n줄 바꿈 명령 \\n연습 입니다.\")"
      ],
      "metadata": {
        "colab": {
          "base_uri": "https://localhost:8080/"
        },
        "id": "Zsb1j1PDlHAR",
        "outputId": "2511fe61-d3d9-4888-d930-0f68997200d9"
      },
      "execution_count": null,
      "outputs": [
        {
          "output_type": "stream",
          "name": "stdout",
          "text": [
            "\n",
            "줄 바꿈 명령 \n",
            "연습 입니다.\n"
          ]
        }
      ]
    },
    {
      "cell_type": "code",
      "source": [
        "print(\"\\t탭키 명령 \\t연습입니다.\")"
      ],
      "metadata": {
        "colab": {
          "base_uri": "https://localhost:8080/"
        },
        "id": "MAYH-pEKlQOc",
        "outputId": "a761b752-fbea-4fbd-edb4-589a71232a99"
      },
      "execution_count": null,
      "outputs": [
        {
          "output_type": "stream",
          "name": "stdout",
          "text": [
            "\t탭키 명령 \t연습입니다.\n"
          ]
        }
      ]
    },
    {
      "cell_type": "code",
      "source": [
        "print(\"따움표 글자가 \\\"강조\\\"되는 효과1\")\n",
        "print(\"따움표 글자가 \\'강조'되는 효과2\")\n",
        "print(\"역슬레시 3개를 출력 \\\\\\\\\\\\ 6개개\")\n",
        "print(r\"\\n \\t \\\" \\\\ \\' @를 그대로 출력\")"
      ],
      "metadata": {
        "colab": {
          "base_uri": "https://localhost:8080/"
        },
        "id": "Cqf1zjQZljDK",
        "outputId": "8fabc7f6-21f3-4b05-df9a-016fba8d403b"
      },
      "execution_count": null,
      "outputs": [
        {
          "output_type": "stream",
          "name": "stdout",
          "text": [
            "따움표 글자가 \"강조\"되는 효과1\n",
            "따움표 글자가 '강조'되는 효과2\n",
            "역슬레시 3개를 출력 \\\\\\ 6개개\n",
            "\\n \\t \\\" \\\\ \\' @를 그대로 출력\n"
          ]
        }
      ]
    },
    {
      "cell_type": "markdown",
      "source": [
        "관계 연산자자"
      ],
      "metadata": {
        "id": "CMq-bhxOuodF"
      }
    },
    {
      "cell_type": "code",
      "source": [
        "a,b=10,20\n",
        "print(a==b,a!=b,a>=b,a<=b,a>b,a<b)"
      ],
      "metadata": {
        "colab": {
          "base_uri": "https://localhost:8080/"
        },
        "id": "AsKz0cFxuqhC",
        "outputId": "9abd4d2d-e5ef-4f90-923c-6af404d44c12"
      },
      "execution_count": null,
      "outputs": [
        {
          "output_type": "stream",
          "name": "stdout",
          "text": [
            "False True False True False True\n"
          ]
        }
      ]
    },
    {
      "cell_type": "markdown",
      "source": [
        "####*논리연산자  and,or,not  "
      ],
      "metadata": {
        "id": "BZ1wViUJvDA9"
      }
    },
    {
      "cell_type": "code",
      "source": [
        "a = 950\n",
        "print((a>100)and (a<200))  #100<a<200\n",
        "print((a<100) or (a>200))  # a<100,a>200\n",
        "print(not(a==100))  # a<99,  a>=101"
      ],
      "metadata": {
        "colab": {
          "base_uri": "https://localhost:8080/"
        },
        "id": "07oZAg3IvHZR",
        "outputId": "5ec8aeae-366a-44bb-a602-3c81bafb91d4"
      },
      "execution_count": null,
      "outputs": [
        {
          "output_type": "stream",
          "name": "stdout",
          "text": [
            "False\n",
            "True\n",
            "True\n"
          ]
        }
      ]
    },
    {
      "cell_type": "code",
      "source": [
        "if(112):\n",
        " print(\"참이면 실행되어 보임\")\n",
        " if(0):\n",
        "   print(\"거짓이면 안보임\")"
      ],
      "metadata": {
        "colab": {
          "base_uri": "https://localhost:8080/"
        },
        "id": "Z8AWXq50wfjq",
        "outputId": "5764ab21-4991-46c5-b756-c5973b899f2f"
      },
      "execution_count": null,
      "outputs": [
        {
          "output_type": "stream",
          "name": "stdout",
          "text": [
            "참이면 실행되어 보임\n"
          ]
        }
      ]
    },
    {
      "cell_type": "markdown",
      "source": [
        "#### 퀴즈2 // 몫 % 나머지 money = int(input(\"입력\"-:\")) 지폐 금액입력 후 동전으로 교환시 최소한 해서 (500, 100, 50원, 10원)\n",
        "money, c500, c100, c50, c10\n",
        "받은 돈 : ?원\n",
        "500원 : ?개\n",
        "100원 : ?개\n",
        "50원 : ?개\n",
        "10원 : ?개\n",
        "나머지 : ?원원"
      ],
      "metadata": {
        "id": "gA_NOyAYxPmo"
      }
    },
    {
      "cell_type": "code",
      "source": [
        "money, c500,c100,c50,c10=0,0,0,0,0\n",
        "money=int(input(\"동전으로 교환할 돈은?\"))\n",
        "print(\"입력받은 돈은 %d원\" % money)\n",
        "c500 = money // 500  # 몫  \n",
        "money %= 500 #money = money %500\n",
        "c100 = money // 100\n",
        "money %= 100\n",
        "c50 = money //50\n",
        "money %= 50\n",
        "c10 = money // 10\n",
        "money %= 10 \n",
        "print(\"500원 동전 : %d\" % c500)\n",
        "print(\"100원 동전 : %d\" % c100)\n",
        "print(\"50원 동전 : %d\" % c50)\n",
        "print(\"10원 동전 : %d\" % c10)\n",
        "print(\"나머지 잔돈 : %d\" % money)"
      ],
      "metadata": {
        "colab": {
          "base_uri": "https://localhost:8080/"
        },
        "id": "Ro3DloxqyQwi",
        "outputId": "cb9abe67-b3d4-48a6-cd12-73f741895ade"
      },
      "execution_count": null,
      "outputs": [
        {
          "output_type": "stream",
          "name": "stdout",
          "text": [
            "동전으로 교환할 돈은?302103210\n",
            "입력받은 돈은 302103210원\n",
            "500원 동전 : 604206\n",
            "100원 동전 : 2\n",
            "50원 동전 : 0\n",
            "10원 동전 : 1\n",
            "나머지 잔돈 : 0\n"
          ]
        }
      ]
    },
    {
      "cell_type": "code",
      "source": [
        "a = 50\n",
        "if(a < 100):\n",
        "  print(\"100보다 작으면 참\")\n",
        "  print(\"거짓이면 이문장은 보이지 않음 \")\n",
        "print(\"프로그램 끝\")"
      ],
      "metadata": {
        "colab": {
          "base_uri": "https://localhost:8080/"
        },
        "id": "3zB0OsUy6p_6",
        "outputId": "52f55c47-da30-45fc-b8a8-b86fdafcd5e8"
      },
      "execution_count": null,
      "outputs": [
        {
          "output_type": "stream",
          "name": "stdout",
          "text": [
            "100보다 작으면 참\n",
            "거짓이면 이문장은 보이지 않음 \n",
            "프로그램 끝\n"
          ]
        }
      ]
    },
    {
      "cell_type": "code",
      "source": [
        "a = 50\n",
        "if(a<100):\n",
        "  print(\"참 : 100보다 작음\")\n",
        "else :\n",
        "  print(\"거짓:조건보다 크면\")\n",
        "print(\"프로그램 끝\")"
      ],
      "metadata": {
        "colab": {
          "base_uri": "https://localhost:8080/"
        },
        "id": "5AA-Flju7U4o",
        "outputId": "2ab4938b-8321-4350-c9f1-63b93ec5aa8d"
      },
      "execution_count": null,
      "outputs": [
        {
          "output_type": "stream",
          "name": "stdout",
          "text": [
            "참 : 100보다 작음\n",
            "프로그램 끝\n"
          ]
        }
      ]
    },
    {
      "cell_type": "code",
      "source": [
        "#홀짝 구분\n",
        "a = int(input(\"숫자 입력:\"))\n",
        "b = a % 2\n",
        "if(b==0):\n",
        "  print(\"짝수 입니다.\")\n",
        "else : \n",
        "  print(\"홀수 입니다.\")"
      ],
      "metadata": {
        "colab": {
          "base_uri": "https://localhost:8080/"
        },
        "id": "GJeraXhx73rO",
        "outputId": "0fa61fb8-0922-47f5-81b7-edd455069e29"
      },
      "execution_count": null,
      "outputs": [
        {
          "output_type": "stream",
          "name": "stdout",
          "text": [
            "숫자 입력:5\n",
            "홀수 입니다.\n"
          ]
        }
      ]
    },
    {
      "cell_type": "code",
      "source": [
        "a = int(input(\"숫자입력:\"))\n",
        "if(a > 50):\n",
        "  if(a < 100):\n",
        "    print(\"50<a<100\")\n",
        "  else: \n",
        "    print(\"a>100\")\n",
        "else:\n",
        "  if(a > 25):\n",
        "   print(\"25<a<50\")\n",
        "  else :\n",
        "   print(\"a<25\")"
      ],
      "metadata": {
        "colab": {
          "base_uri": "https://localhost:8080/"
        },
        "id": "DHPdTdGj84r4",
        "outputId": "22768c64-4ada-4a27-ba8a-0d7c2b8dfb98"
      },
      "execution_count": null,
      "outputs": [
        {
          "output_type": "stream",
          "name": "stdout",
          "text": [
            "숫자입력:55\n",
            "50<a<100\n"
          ]
        }
      ]
    },
    {
      "cell_type": "code",
      "source": [
        "fruit = ['사과','배','샤인머스켓','바나나']\n",
        "fruit.append('망고')\n",
        "if '망고'in fruit :\n",
        "  print(\"망고가 있습니다.\")\n",
        "print(fruit)"
      ],
      "metadata": {
        "colab": {
          "base_uri": "https://localhost:8080/"
        },
        "id": "H_MZuXAF_qUO",
        "outputId": "1b05a937-a2b8-4e6b-ea35-b68d0421a5ec"
      },
      "execution_count": null,
      "outputs": [
        {
          "output_type": "stream",
          "name": "stdout",
          "text": [
            "망고가 있습니다.\n",
            "['사과', '배', '샤인머스켓', '바나나', '망고']\n"
          ]
        }
      ]
    },
    {
      "cell_type": "code",
      "source": [
        "for  i in range(0,3,1):\n",
        "  print(\"%d 안녕하세요.\" % i)\n",
        "print(\"환영합니다.^^*\")  "
      ],
      "metadata": {
        "colab": {
          "base_uri": "https://localhost:8080/"
        },
        "id": "FxNqx_-SAl8v",
        "outputId": "e64c5eb5-e9be-4aba-b624-a5a34ca74574"
      },
      "execution_count": null,
      "outputs": [
        {
          "output_type": "stream",
          "name": "stdout",
          "text": [
            "1 안녕하세요.\n",
            "2 안녕하세요.\n",
            "환영합니다.^^*\n"
          ]
        }
      ]
    },
    {
      "cell_type": "code",
      "source": [
        "import random\n",
        "num = []\n",
        "for i in range(0,6):\n",
        "  num.append(random.randrange(1,46))\n",
        "print(\"생선 리스트\", num)  "
      ],
      "metadata": {
        "colab": {
          "base_uri": "https://localhost:8080/"
        },
        "id": "UHd4VKMVCB38",
        "outputId": "27c5effd-dd36-48cc-d06e-b209d21e3e68"
      },
      "execution_count": null,
      "outputs": [
        {
          "output_type": "stream",
          "name": "stdout",
          "text": [
            "생선 리스트 [8, 32, 6, 15, 37, 40]\n"
          ]
        }
      ]
    },
    {
      "cell_type": "code",
      "source": [
        "for i in range(1,9,1):\n",
        "  print(\"%d\" % i,end='\\t')\n",
        "print(\"\\n\")\n",
        "for j in range(1,9,1):\n",
        "  print(\"%d\" % j,end='\\t')"
      ],
      "metadata": {
        "colab": {
          "base_uri": "https://localhost:8080/"
        },
        "id": "RYAWIkkMDZmq",
        "outputId": "82da3ddd-c673-488d-d8a9-00550333fd10"
      },
      "execution_count": null,
      "outputs": [
        {
          "output_type": "stream",
          "name": "stdout",
          "text": [
            "1\t2\t3\t4\t5\t6\t7\t8\t\n",
            "\n",
            "1\t2\t3\t4\t5\t6\t7\t8\t"
          ]
        }
      ]
    },
    {
      "cell_type": "code",
      "source": [
        "sum = 0\n",
        "for i in range(1,11,1):\n",
        "  sum = sum + i\n",
        "print(\"1부터 10까지의 합합:%d\" % sum)"
      ],
      "metadata": {
        "colab": {
          "base_uri": "https://localhost:8080/"
        },
        "id": "vJQpElFWEQaA",
        "outputId": "87fc8d15-5b8c-4a05-9e40-203518104bac"
      },
      "execution_count": null,
      "outputs": [
        {
          "output_type": "stream",
          "name": "stdout",
          "text": [
            "1부터 10까지의 합합:55\n"
          ]
        }
      ]
    },
    {
      "cell_type": "code",
      "source": [
        "sum,num=0,0\n",
        "num = int(input(\"숫자입력:\"))\n",
        "for i in range(1,num+1,1):\n",
        "  sum = sum + i\n",
        "print(\"1~n까지의 합:%d\" % sum)"
      ],
      "metadata": {
        "colab": {
          "base_uri": "https://localhost:8080/"
        },
        "id": "oukjjrGjE4BN",
        "outputId": "593a799f-f690-4100-e86c-b72e064946e6"
      },
      "execution_count": null,
      "outputs": [
        {
          "output_type": "stream",
          "name": "stdout",
          "text": [
            "숫자입력:10000\n",
            "1~n까지의 합:50005000\n"
          ]
        }
      ]
    },
    {
      "cell_type": "code",
      "source": [
        "#구구단\n",
        "i,j=2,0\n",
        "for j in range(1,10,1):\n",
        "  print(\"%d x %d = %2d\" % (i,j,i*j))\n"
      ],
      "metadata": {
        "colab": {
          "base_uri": "https://localhost:8080/"
        },
        "id": "cyULRkCUFxaG",
        "outputId": "ee392e71-81e8-4b9c-b25e-beff84e04d41"
      },
      "execution_count": null,
      "outputs": [
        {
          "output_type": "stream",
          "name": "stdout",
          "text": [
            "2 x 1 =  2\n",
            "2 x 2 =  4\n",
            "2 x 3 =  6\n",
            "2 x 4 =  8\n",
            "2 x 5 = 10\n",
            "2 x 6 = 12\n",
            "2 x 7 = 14\n",
            "2 x 8 = 16\n",
            "2 x 9 = 18\n",
            "\n"
          ]
        }
      ]
    },
    {
      "cell_type": "code",
      "source": [
        " a,b=0,0\n",
        "#k= int(input(\"구구단 단수 입력 : \"))\n",
        "for a in range(1,10):\n",
        "  for b in range(2,6):\n",
        "    print(\"%d x %d = %2d\" % (b,a,a*b), end=\"\\t\")\n",
        "  print(\"\")\n",
        "print(\"\\n\")\n",
        "c,d=0,0\n",
        "for c in range(1,10):\n",
        "  for d in range(6,10):\n",
        "    print(\"%d x %d = %2d\" % (d,c,c*d), end=\"\\t\")\n",
        "  print(\"\")"
      ],
      "metadata": {
        "colab": {
          "base_uri": "https://localhost:8080/"
        },
        "id": "ZvWj4XkuGsZp",
        "outputId": "a0e501f0-c4fa-4e5a-c9c1-7020a85c8eff"
      },
      "execution_count": null,
      "outputs": [
        {
          "output_type": "stream",
          "name": "stdout",
          "text": [
            "2 x 1 =  2\t3 x 1 =  3\t4 x 1 =  4\t5 x 1 =  5\t\n",
            "2 x 2 =  4\t3 x 2 =  6\t4 x 2 =  8\t5 x 2 = 10\t\n",
            "2 x 3 =  6\t3 x 3 =  9\t4 x 3 = 12\t5 x 3 = 15\t\n",
            "2 x 4 =  8\t3 x 4 = 12\t4 x 4 = 16\t5 x 4 = 20\t\n",
            "2 x 5 = 10\t3 x 5 = 15\t4 x 5 = 20\t5 x 5 = 25\t\n",
            "2 x 6 = 12\t3 x 6 = 18\t4 x 6 = 24\t5 x 6 = 30\t\n",
            "2 x 7 = 14\t3 x 7 = 21\t4 x 7 = 28\t5 x 7 = 35\t\n",
            "2 x 8 = 16\t3 x 8 = 24\t4 x 8 = 32\t5 x 8 = 40\t\n",
            "2 x 9 = 18\t3 x 9 = 27\t4 x 9 = 36\t5 x 9 = 45\t\n",
            "\n",
            "\n",
            "6 x 1 =  6\t7 x 1 =  7\t8 x 1 =  8\t9 x 1 =  9\t\n",
            "6 x 2 = 12\t7 x 2 = 14\t8 x 2 = 16\t9 x 2 = 18\t\n",
            "6 x 3 = 18\t7 x 3 = 21\t8 x 3 = 24\t9 x 3 = 27\t\n",
            "6 x 4 = 24\t7 x 4 = 28\t8 x 4 = 32\t9 x 4 = 36\t\n",
            "6 x 5 = 30\t7 x 5 = 35\t8 x 5 = 40\t9 x 5 = 45\t\n",
            "6 x 6 = 36\t7 x 6 = 42\t8 x 6 = 48\t9 x 6 = 54\t\n",
            "6 x 7 = 42\t7 x 7 = 49\t8 x 7 = 56\t9 x 7 = 63\t\n",
            "6 x 8 = 48\t7 x 8 = 56\t8 x 8 = 64\t9 x 8 = 72\t\n",
            "6 x 9 = 54\t7 x 9 = 63\t8 x 9 = 72\t9 x 9 = 81\t\n"
          ]
        }
      ]
    }
  ]
}