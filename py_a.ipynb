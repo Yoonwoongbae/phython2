{
  "nbformat": 4,
  "nbformat_minor": 0,
  "metadata": {
    "colab": {
      "provenance": [],
      "authorship_tag": "ABX9TyMEqBqALcalU0VDwK78lIC8",
      "include_colab_link": true
    },
    "kernelspec": {
      "name": "python3",
      "display_name": "Python 3"
    },
    "language_info": {
      "name": "python"
    }
  },
  "cells": [
    {
      "cell_type": "markdown",
      "metadata": {
        "id": "view-in-github",
        "colab_type": "text"
      },
      "source": [
        "<a href=\"https://colab.research.google.com/github/Yoonwoongbae/phython2/blob/main/py_a.ipynb\" target=\"_parent\"><img src=\"https://colab.research.google.com/assets/colab-badge.svg\" alt=\"Open In Colab\"/></a>"
      ]
    },
    {
      "cell_type": "code",
      "execution_count": null,
      "metadata": {
        "id": "ScOpXUR4h4MW"
      },
      "outputs": [],
      "source": []
    },
    {
      "cell_type": "markdown",
      "source": [
        "# CH1. 파이썬 문법\n",
        "## 자료형\n",
        "\n",
        "**숫자형** \n",
        "* 정수 : 123,456, 0 , 130\n",
        "* 실수 : 12.345, -987,65,0,7e6  \n",
        "* 8진수 : 0o765, 0o123  \n",
        "* 16wlstn : 0x00, 0x0A, 0xff\n",
        "\n",
        "**변수**\n",
        "* 문자 또는 밑줄로 시작(_Yoon. alpha)\n",
        "* 대소문자 구분(sum, Sum, SUM)\n",
        "* 영문자. 숫자. 밑줄(A-z, 0-9, _)\n",
        "  ex) sun_9, Alpha, s9n)  \n",
        "* 파이썬 키워드 (print...) \n",
        "\n",
        "**표기법**\n",
        "+ 카멜(낙타) : myName\n",
        "+ 스네이크(뱀) : my_name\n",
        "+ 파스칼 : MyName"
      ],
      "metadata": {
        "id": "P2Ln-K07isPa"
      }
    },
    {
      "cell_type": "code",
      "source": [
        "a = 10  \n",
        "b = 20  \n",
        "f = \"10\"  \n",
        "c = a + b  \n",
        "print(a,b,c,f)"
      ],
      "metadata": {
        "colab": {
          "base_uri": "https://localhost:8080/"
        },
        "id": "o3PLSdWVlYTB",
        "outputId": "6bf7719c-a4a7-40b0-b416-9d1c0a4579aa"
      },
      "execution_count": null,
      "outputs": [
        {
          "output_type": "stream",
          "name": "stdout",
          "text": [
            "10 20 30 10\n"
          ]
        }
      ]
    },
    {
      "cell_type": "code",
      "source": [
        "a = 10 \n",
        "b = 20\n",
        "c= \"10\" \n",
        "d=  \"20\" \n",
        "print(a+b)\n",
        "print(type(a))\n",
        "print(type(c))\n",
        "print(c+d)  \n",
        "print(c,d)"
      ],
      "metadata": {
        "colab": {
          "base_uri": "https://localhost:8080/"
        },
        "id": "_3Mu_4Bql908",
        "outputId": "02a98492-9b57-4dd9-93eb-87538e5f17ed"
      },
      "execution_count": null,
      "outputs": [
        {
          "output_type": "stream",
          "name": "stdout",
          "text": [
            "30\n",
            "<class 'int'>\n",
            "<class 'str'>\n",
            "1020\n",
            "10 20\n"
          ]
        }
      ]
    },
    {
      "cell_type": "code",
      "source": [
        "#변수 \n",
        "myName = \"Yoon woong bae\"\n",
        "my_name = \"윤웅배\"\n",
        "_my_navme = \"korea\"\n",
        "MYNAME = \"코리아\"\n",
        "my2name = \"kikiki\"\n",
        "# 2myname = \"하하하\"\n",
        "# my-name = \"마이너스\"\n",
        "# my name = \"스페이스\"\n",
        "myName1 = 1234\n",
        "myName2 = \"1234\"\n",
        "print(type(myName1))\n",
        "print(type(myName2))"
      ],
      "metadata": {
        "colab": {
          "base_uri": "https://localhost:8080/"
        },
        "id": "JAr0XQZWtZD3",
        "outputId": "fad6fd86-5a7c-49d1-aa08-31526676102e"
      },
      "execution_count": null,
      "outputs": [
        {
          "output_type": "stream",
          "name": "stdout",
          "text": [
            "<class 'int'>\n",
            "<class 'str'>\n"
          ]
        }
      ]
    },
    {
      "cell_type": "code",
      "source": [
        "a=b=c= \"브라보콘\"\n",
        "print(a)\n",
        "print(b)\n",
        "print(c)"
      ],
      "metadata": {
        "colab": {
          "base_uri": "https://localhost:8080/"
        },
        "id": "BVh1meNFvFB3",
        "outputId": "2a9eb4a6-d0de-460c-807e-700d05f4e5a1"
      },
      "execution_count": null,
      "outputs": [
        {
          "output_type": "stream",
          "name": "stdout",
          "text": [
            "브라보콘\n",
            "브라보콘\n",
            "브라보콘\n"
          ]
        }
      ]
    },
    {
      "cell_type": "code",
      "source": [
        "x,y,z = \"딸기\",\"포도\",\"바나나\"\n",
        "print(x)\n",
        "print(y)\n",
        "print(z)"
      ],
      "metadata": {
        "colab": {
          "base_uri": "https://localhost:8080/"
        },
        "id": "VQL1T-f2vQqQ",
        "outputId": "5ae72116-125c-4bb4-9817-e97f1f653224"
      },
      "execution_count": null,
      "outputs": [
        {
          "output_type": "stream",
          "name": "stdout",
          "text": [
            "딸기\n",
            "포도\n",
            "바나나\n"
          ]
        }
      ]
    },
    {
      "cell_type": "code",
      "source": [
        "fruits = [\"누가바\", \"쌍쌍바\",\"보석바\"]\n",
        "x,y,z = fruits\n",
        "print(x)\n",
        "print(y)\n",
        "print(z)"
      ],
      "metadata": {
        "colab": {
          "base_uri": "https://localhost:8080/"
        },
        "id": "fkNCx3Icv4wL",
        "outputId": "90d377d5-a78c-4832-902e-dc0cf882c7a8"
      },
      "execution_count": null,
      "outputs": [
        {
          "output_type": "stream",
          "name": "stdout",
          "text": [
            "누가바\n",
            "쌍쌍바\n",
            "보석바\n"
          ]
        }
      ]
    },
    {
      "cell_type": "code",
      "source": [
        "x = \"Lite\"\n",
        "y = \"is\"\n",
        "z = \"beautiful!\"\n",
        "print(x,y,z)\n",
        "print(x+y+z)"
      ],
      "metadata": {
        "colab": {
          "base_uri": "https://localhost:8080/"
        },
        "id": "OwStGX_EwexS",
        "outputId": "634704f2-72c4-4df2-e5ac-388608236cd4"
      },
      "execution_count": null,
      "outputs": [
        {
          "output_type": "stream",
          "name": "stdout",
          "text": [
            "Lite is beautiful!\n",
            "Liteisbeautiful!\n"
          ]
        }
      ]
    },
    {
      "cell_type": "code",
      "source": [
        "a = 1\n",
        "b = 2 \n",
        "c = 3 \n",
        "print(a+b+c)\n",
        "print(a,b,c)"
      ],
      "metadata": {
        "colab": {
          "base_uri": "https://localhost:8080/"
        },
        "id": "kobh7j60xDgA",
        "outputId": "107b223b-4e3d-4d9d-935d-e8ab5f298772"
      },
      "execution_count": null,
      "outputs": [
        {
          "output_type": "stream",
          "name": "stdout",
          "text": [
            "6\n",
            "1 2 3\n"
          ]
        }
      ]
    },
    {
      "cell_type": "code",
      "source": [
        "# 나눗셈\n",
        "a = 10\n",
        "b = 3\n",
        "c = a / b\n",
        "d = a // b # 몫\n",
        "e = a % b # 나머지\n",
        "print(c)\n",
        "print(d)\n",
        "print(e)"
      ],
      "metadata": {
        "colab": {
          "base_uri": "https://localhost:8080/"
        },
        "id": "4peBoZcc3Mla",
        "outputId": "ad3a5e39-5b3a-4b83-f93c-0cec8c4b0ea2"
      },
      "execution_count": null,
      "outputs": [
        {
          "output_type": "stream",
          "name": "stdout",
          "text": [
            "3.3333333333333335\n",
            "3\n",
            "1\n"
          ]
        }
      ]
    },
    {
      "cell_type": "code",
      "source": [
        "# 곱셈\n",
        "a = 10\n",
        "b = 3\n",
        "c = a * b #곱하기\n",
        "d = a ** b # 제곱\n",
        "print (c,d)"
      ],
      "metadata": {
        "colab": {
          "base_uri": "https://localhost:8080/"
        },
        "id": "Qu46pyDm3SC8",
        "outputId": "9fe88e4b-4f35-4d1c-d543-8a226143bc0e"
      },
      "execution_count": null,
      "outputs": [
        {
          "output_type": "stream",
          "name": "stdout",
          "text": [
            "30 1000\n"
          ]
        }
      ]
    },
    {
      "cell_type": "markdown",
      "source": [
        "#### 문자열\n",
        "1. 큰 따옴표 : \"윤웅배\"\n",
        "2. 작은 따옴표 : '윤웅배'\n",
        "3. 큰 따옴표 3개 : \"\"\"윤웅배\"\"\"\n",
        "4. 작은 따옴표 3개 : '''윤웅배'''\n",
        "5. \" 동해물과 백두산이 마르고 닳도록 우리나라 좋은나라 \"  "
      ],
      "metadata": {
        "id": "yiTdNmT43ZgD"
      }
    },
    {
      "cell_type": "markdown",
      "source": [
        "# 데이터 바꾸기"
      ],
      "metadata": {
        "id": "jccqtXry77BT"
      }
    },
    {
      "cell_type": "code",
      "source": [
        "a = 1 ; b = 2\n",
        "a ,b = b,a\n",
        "print(a,b)"
      ],
      "metadata": {
        "colab": {
          "base_uri": "https://localhost:8080/"
        },
        "id": "YSULrx068BLm",
        "outputId": "db92273c-e577-4c68-ff5b-51134b226cc6"
      },
      "execution_count": null,
      "outputs": [
        {
          "output_type": "stream",
          "name": "stdout",
          "text": [
            "2 1\n"
          ]
        }
      ]
    },
    {
      "cell_type": "code",
      "source": [
        "b = 2 ; C = 3\n",
        "f = b + c\n",
        "c\n",
        "print(f)"
      ],
      "metadata": {
        "colab": {
          "base_uri": "https://localhost:8080/"
        },
        "id": "UPnuEW-78qn5",
        "outputId": "f5ccc8f0-bfb8-49d2-937e-5a138a881c5e"
      },
      "execution_count": null,
      "outputs": [
        {
          "output_type": "stream",
          "name": "stdout",
          "text": [
            "32\n"
          ]
        }
      ]
    },
    {
      "cell_type": "code",
      "source": [
        "# len()\n",
        "a = \"123456\"\n",
        "b = [2,3,4,5]\n",
        "print(len(a))\n",
        "print(len(b))"
      ],
      "metadata": {
        "colab": {
          "base_uri": "https://localhost:8080/"
        },
        "id": "g1s98aVB9TS8",
        "outputId": "49bf6db8-597c-46c0-ced8-dba5410bf9b5"
      },
      "execution_count": null,
      "outputs": [
        {
          "output_type": "stream",
          "name": "stdout",
          "text": [
            "6\n",
            "4\n"
          ]
        }
      ]
    },
    {
      "cell_type": "code",
      "source": [
        "a = 100\n",
        "b = 200\n",
        "result = a+b  \n",
        "print(a,'+',b,'=',result)\n",
        "result = a - b\n",
        "print(a,'-',b,'=',result)\n",
        "result = a / b\n",
        "print(a,'/',b,'=',result)\n",
        "result = a * b\n",
        "print(a,'*',b,'=',result)"
      ],
      "metadata": {
        "colab": {
          "base_uri": "https://localhost:8080/"
        },
        "id": "ZzqNtScs9uxT",
        "outputId": "b14db8d0-c3ec-4ba8-bfaa-9b1435c0c5e5"
      },
      "execution_count": null,
      "outputs": [
        {
          "output_type": "stream",
          "name": "stdout",
          "text": [
            "100 + 200 = 300\n",
            "100 - 200 = -100\n",
            "100 / 200 = 0.5\n",
            "100 * 200 = 20000\n"
          ]
        }
      ]
    },
    {
      "cell_type": "code",
      "source": [
        "a = \"1234\"\n",
        "b = 5678\n",
        "c = int(a) + b\n",
        "print(c)"
      ],
      "metadata": {
        "colab": {
          "base_uri": "https://localhost:8080/"
        },
        "id": "IbTtGfe3AxYm",
        "outputId": "480a96df-2c9a-423b-a777-03cd4034d59b"
      },
      "execution_count": null,
      "outputs": [
        {
          "output_type": "stream",
          "name": "stdout",
          "text": [
            "6912\n"
          ]
        }
      ]
    },
    {
      "cell_type": "code",
      "source": [
        "# 계산기 2\n",
        "num1 = int(input(\"숫자입력1: \"))\n",
        "num2 = int(input(\"숫자입력2: \"))\n",
        "\n",
        "print(type(num1))\n",
        "result = num1 + num2\n",
        "print(result)"
      ],
      "metadata": {
        "colab": {
          "base_uri": "https://localhost:8080/"
        },
        "id": "aIH8zdM7BLWF",
        "outputId": "db57746e-c481-4d74-a517-cc340184388e"
      },
      "execution_count": null,
      "outputs": [
        {
          "output_type": "stream",
          "name": "stdout",
          "text": [
            "숫자입력1: 2\n",
            "숫자입력2: 3\n",
            "<class 'int'>\n",
            "5\n"
          ]
        }
      ]
    },
    {
      "cell_type": "code",
      "source": [
        "# 계산기 3\n",
        "num1 = int(input(\"숫자입력1: \"))\n",
        "num2 = int(input(\"숫자입력2: \"))\n",
        "a = int(num1)\n",
        "b = int(num2)\n",
        "result = a+b  \n",
        "print(a,'+',b,'=',result)\n",
        "result = a - b\n",
        "print(a,'-',b,'=',result)\n",
        "result = a / b\n",
        "print(a,'/',b,'=',result)\n",
        "result = a * b\n",
        "print(a,'*',b,'=',result)"
      ],
      "metadata": {
        "colab": {
          "base_uri": "https://localhost:8080/"
        },
        "id": "HI68j5AoB-S8",
        "outputId": "680315d8-8ce8-4fe8-f6d6-eedd44144328"
      },
      "execution_count": null,
      "outputs": [
        {
          "output_type": "stream",
          "name": "stdout",
          "text": [
            "숫자입력1: 2\n",
            "숫자입력2: 3\n",
            "2 + 3 = 5\n",
            "2 - 3 = -1\n",
            "2 / 3 = 0.6666666666666666\n",
            "2 * 3 = 6\n"
          ]
        }
      ]
    },
    {
      "cell_type": "code",
      "source": [
        "# 자기이름 전화번호 택배(g)x100\n",
        "name = input(\"이름: \")\n",
        "result = name \n",
        "number = input(\"전화번호: \")\n",
        "result = number \n",
        "num1 = int(input(\"택배(g)x100: \"))\n",
        "a= int(num1)\n",
        "result = int(num1)*100\n",
        "print(\"결과값 = \",a,\"x100원=\", result, \"입니다\")"
      ],
      "metadata": {
        "colab": {
          "base_uri": "https://localhost:8080/"
        },
        "id": "Rm6aykTMDktn",
        "outputId": "b7017563-45bc-40f1-c5eb-4fd05d67dc8a"
      },
      "execution_count": null,
      "outputs": [
        {
          "output_type": "stream",
          "name": "stdout",
          "text": [
            "이름: 윤웅배\n",
            "전화번호: 01085233967\n",
            "택배(g)x100: 2\n",
            "결과값 =  2 x100원= 200 입니다\n"
          ]
        }
      ]
    },
    {
      "cell_type": "markdown",
      "source": [
        "CH3. 자료형\n",
        "\n",
        "1. 인덱스, 슬라이싱"
      ],
      "metadata": {
        "id": "3V2D_cJmh5_u"
      }
    },
    {
      "cell_type": "code",
      "source": [
        "a = [1,2,3,4,5,6,7,8,9]\n",
        "print(a)\n",
        "print(a[0])"
      ],
      "metadata": {
        "colab": {
          "base_uri": "https://localhost:8080/"
        },
        "id": "NMTXGy4mieCe",
        "outputId": "67ee15a8-4295-4562-8be1-c3779c9fba19"
      },
      "execution_count": null,
      "outputs": [
        {
          "output_type": "stream",
          "name": "stdout",
          "text": [
            "[1, 2, 3, 4, 5, 6, 7, 8, 9]\n",
            "1\n"
          ]
        }
      ]
    },
    {
      "cell_type": "code",
      "source": [
        "a = [1,2,3,4,5,6,7,8,9]\n",
        "print(a[-1])\n",
        "print(a[-2])"
      ],
      "metadata": {
        "colab": {
          "base_uri": "https://localhost:8080/"
        },
        "id": "21KaSHoBj3kM",
        "outputId": "37fc7f66-9932-4fb9-ace3-c508a9b5d5d6"
      },
      "execution_count": null,
      "outputs": [
        {
          "output_type": "stream",
          "name": "stdout",
          "text": [
            "9\n",
            "8\n"
          ]
        }
      ]
    },
    {
      "cell_type": "code",
      "source": [
        "a = [1,2,3,4,5,6,7,8,9]\n",
        "print(a[1:9:2])\n",
        "print(a[0:9:2])"
      ],
      "metadata": {
        "colab": {
          "base_uri": "https://localhost:8080/"
        },
        "id": "KB8bbpZAkFGf",
        "outputId": "699663e0-abf8-421d-801d-4c3bbc87378b"
      },
      "execution_count": null,
      "outputs": [
        {
          "output_type": "stream",
          "name": "stdout",
          "text": [
            "[2, 4, 6, 8]\n",
            "[1, 3, 5, 7, 9]\n"
          ]
        }
      ]
    },
    {
      "cell_type": "code",
      "source": [
        "a = [1,2,3,4,5,6,7,8,9]\n",
        "print(a[:4])\n",
        "print(a[5:])"
      ],
      "metadata": {
        "colab": {
          "base_uri": "https://localhost:8080/"
        },
        "id": "XAQ9-DWvkhVU",
        "outputId": "3c24e583-5aa0-40ef-db0e-73d0a122e0be"
      },
      "execution_count": null,
      "outputs": [
        {
          "output_type": "stream",
          "name": "stdout",
          "text": [
            "[1, 2, 3, 4]\n",
            "[6, 7, 8, 9]\n"
          ]
        }
      ]
    },
    {
      "cell_type": "code",
      "source": [
        "a = [1,2,3,4,5,6,7,8,9]\n",
        "print(len(a))\n",
        "print(len(a) -1)"
      ],
      "metadata": {
        "colab": {
          "base_uri": "https://localhost:8080/"
        },
        "id": "HQ8Fepwck_LD",
        "outputId": "bad3f595-2269-49b3-b132-e7b7265d309d"
      },
      "execution_count": null,
      "outputs": [
        {
          "output_type": "stream",
          "name": "stdout",
          "text": [
            "9\n",
            "8\n"
          ]
        }
      ]
    },
    {
      "cell_type": "code",
      "source": [
        "b = []\n",
        "b[0] = \"apple\"\n",
        "print(b)"
      ],
      "metadata": {
        "colab": {
          "base_uri": "https://localhost:8080/",
          "height": 209
        },
        "id": "6yjp2ZASlV5w",
        "outputId": "3ecf84d8-e900-470e-be8e-a05db3d30cc8"
      },
      "execution_count": null,
      "outputs": [
        {
          "output_type": "error",
          "ename": "IndexError",
          "evalue": "ignored",
          "traceback": [
            "\u001b[0;31m---------------------------------------------------------------------------\u001b[0m",
            "\u001b[0;31mIndexError\u001b[0m                                Traceback (most recent call last)",
            "\u001b[0;32m<ipython-input-68-733e67a38a52>\u001b[0m in \u001b[0;36m<module>\u001b[0;34m\u001b[0m\n\u001b[1;32m      1\u001b[0m \u001b[0mb\u001b[0m \u001b[0;34m=\u001b[0m \u001b[0;34m[\u001b[0m\u001b[0;34m]\u001b[0m\u001b[0;34m\u001b[0m\u001b[0;34m\u001b[0m\u001b[0m\n\u001b[0;32m----> 2\u001b[0;31m \u001b[0mb\u001b[0m\u001b[0;34m[\u001b[0m\u001b[0;36m0\u001b[0m\u001b[0;34m]\u001b[0m \u001b[0;34m=\u001b[0m \u001b[0;34m\"apple\"\u001b[0m\u001b[0;34m\u001b[0m\u001b[0;34m\u001b[0m\u001b[0m\n\u001b[0m\u001b[1;32m      3\u001b[0m \u001b[0mprint\u001b[0m\u001b[0;34m(\u001b[0m\u001b[0mb\u001b[0m\u001b[0;34m)\u001b[0m\u001b[0;34m\u001b[0m\u001b[0;34m\u001b[0m\u001b[0m\n",
            "\u001b[0;31mIndexError\u001b[0m: list assignment index out of range"
          ]
        }
      ]
    },
    {
      "cell_type": "code",
      "source": [
        "a =[1,2,3]\n",
        "b =[4,5,6]\n",
        "c = a + b\n",
        "print(a+b)\n",
        "print(c)\n",
        "print(c*3)"
      ],
      "metadata": {
        "colab": {
          "base_uri": "https://localhost:8080/"
        },
        "id": "MNAEtlzpmV3l",
        "outputId": "4fbaab2d-5b2d-475f-d758-5b09748ddacd"
      },
      "execution_count": null,
      "outputs": [
        {
          "output_type": "stream",
          "name": "stdout",
          "text": [
            "[1, 2, 3, 4, 5, 6]\n",
            "[1, 2, 3, 4, 5, 6]\n",
            "[1, 2, 3, 4, 5, 6, 1, 2, 3, 4, 5, 6, 1, 2, 3, 4, 5, 6]\n"
          ]
        }
      ]
    },
    {
      "cell_type": "markdown",
      "source": [
        "함수 이용  "
      ],
      "metadata": {
        "id": "vkxYRneemwcg"
      }
    },
    {
      "cell_type": "code",
      "source": [
        "k = [\"a\",\"b\",\"c\",\"d\"]\n",
        "k.remove(\"c\")\n",
        "print(k)\n",
        "k.append(\"f\") #맨뒤에 추가\n",
        "print(k)"
      ],
      "metadata": {
        "colab": {
          "base_uri": "https://localhost:8080/"
        },
        "id": "R5KxsNvzm3V2",
        "outputId": "17309640-6530-41b6-dce2-50d7c4ee40a0"
      },
      "execution_count": null,
      "outputs": [
        {
          "output_type": "stream",
          "name": "stdout",
          "text": [
            "['a', 'b', 'd']\n",
            "['a', 'b', 'd', 'f']\n"
          ]
        }
      ]
    },
    {
      "cell_type": "code",
      "source": [
        "j = \"God is love!\"\n",
        "print(j[:3])\n",
        "print(j[4:6])\n",
        "print(j[7:])"
      ],
      "metadata": {
        "colab": {
          "base_uri": "https://localhost:8080/"
        },
        "id": "AqQ6thPsn3M3",
        "outputId": "854b0918-9dec-436b-d803-03874ae0f415"
      },
      "execution_count": null,
      "outputs": [
        {
          "output_type": "stream",
          "name": "stdout",
          "text": [
            "God\n",
            "is\n",
            "love!\n"
          ]
        }
      ]
    },
    {
      "cell_type": "code",
      "source": [
        "j = \" God is love!\"\n",
        "print (j. upper()) # 모든 걸 대문자로로\n",
        "print (j. lower()) # 모든 걸 소문자로 \n",
        "print (j.strip())  # 양옆 공간을 없앰"
      ],
      "metadata": {
        "colab": {
          "base_uri": "https://localhost:8080/"
        },
        "id": "hWF4tEzKolpS",
        "outputId": "060b6b8c-a779-454e-deda-3f1e05869369"
      },
      "execution_count": null,
      "outputs": [
        {
          "output_type": "stream",
          "name": "stdout",
          "text": [
            " GOD IS LOVE!\n",
            " god is love!\n",
            "God is love!\n"
          ]
        }
      ]
    },
    {
      "cell_type": "code",
      "source": [
        "a =\" apple, mango, banana\"\n",
        "print(a.split(\",\")) # , 있는 것을 분류해서 만들어줌"
      ],
      "metadata": {
        "colab": {
          "base_uri": "https://localhost:8080/"
        },
        "id": "PG3TDP8Ps0g4",
        "outputId": "f016e448-8d43-4dee-91c2-719f75cb6178"
      },
      "execution_count": null,
      "outputs": [
        {
          "output_type": "stream",
          "name": "stdout",
          "text": [
            "[' apple', ' mango', ' banana']\n"
          ]
        }
      ]
    },
    {
      "cell_type": "code",
      "source": [
        "a =[\" apple, mango, banana\"]\n",
        "a.append(\"Orange\") # append는 맨 뒷쪽에 추가\n",
        "print(a)"
      ],
      "metadata": {
        "colab": {
          "base_uri": "https://localhost:8080/"
        },
        "id": "RTftHGmCtK9S",
        "outputId": "dac7fc25-5858-48bf-814c-13e22f40536d"
      },
      "execution_count": null,
      "outputs": [
        {
          "output_type": "stream",
          "name": "stdout",
          "text": [
            "[' apple, mango, banana', 'Orange']\n"
          ]
        }
      ]
    },
    {
      "cell_type": "code",
      "source": [
        "a =[\" apple\", \"mango\", \"banana\"]\n",
        "a. insert(1,\"Orange\") # insert는 지정한 곳에 삽입\n",
        "print(a)"
      ],
      "metadata": {
        "colab": {
          "base_uri": "https://localhost:8080/"
        },
        "id": "qbDUMbrdtqMF",
        "outputId": "4b6d7829-d8e3-4220-c8c3-7981b359aa3a"
      },
      "execution_count": null,
      "outputs": [
        {
          "output_type": "stream",
          "name": "stdout",
          "text": [
            "[' apple', 'Orange', 'mango', 'banana']\n"
          ]
        }
      ]
    },
    {
      "cell_type": "code",
      "source": [
        "a =[\" apple\", \"mango\", \"banana\",\"cherry\",\"banana\"]\n",
        "a.remove(\"banana\") #앞에 있는 것만 삭제\n",
        "print(a)"
      ],
      "metadata": {
        "colab": {
          "base_uri": "https://localhost:8080/"
        },
        "id": "LlSLNglNt78_",
        "outputId": "f0a211fe-6f84-431c-c83f-21e13cca141a"
      },
      "execution_count": null,
      "outputs": [
        {
          "output_type": "stream",
          "name": "stdout",
          "text": [
            "[' apple', 'mango', 'cherry', 'banana']\n"
          ]
        }
      ]
    },
    {
      "cell_type": "code",
      "source": [
        "a = [\"apple\" , \"banana\" , \"cherry\"]\n",
        "a.pop()#맨뒤 지움\n",
        "print(a)\n",
        "a.pop(1) #맨 뒤 첫번째 자료 지움\n",
        "print(a)"
      ],
      "metadata": {
        "colab": {
          "base_uri": "https://localhost:8080/"
        },
        "id": "QQsff3hEuUUy",
        "outputId": "1ccf504b-4822-44c9-a263-d66a8cd7b46a"
      },
      "execution_count": null,
      "outputs": [
        {
          "output_type": "stream",
          "name": "stdout",
          "text": [
            "['apple', 'banana']\n",
            "['apple']\n"
          ]
        }
      ]
    },
    {
      "cell_type": "code",
      "source": [
        "fruit = [\"사과\",\"배\",\"오렌지\"]\n",
        "for i in fruit:\n",
        "  print(i)"
      ],
      "metadata": {
        "colab": {
          "base_uri": "https://localhost:8080/"
        },
        "id": "ATns4VvyvBLt",
        "outputId": "8e3b433c-e58e-4a56-a247-9c62a9853373"
      },
      "execution_count": null,
      "outputs": [
        {
          "output_type": "stream",
          "name": "stdout",
          "text": [
            "사과\n",
            "배\n",
            "오렌지\n"
          ]
        }
      ]
    },
    {
      "cell_type": "code",
      "source": [
        "fruit = [\"감\",\"밤\",\"대추\"]\n",
        "for i in range(len(fruit)):\n",
        "  print(fruit)"
      ],
      "metadata": {
        "colab": {
          "base_uri": "https://localhost:8080/"
        },
        "id": "OR9TnHrRvXJC",
        "outputId": "d4149f8b-1828-44dd-adb8-944eda4eefcd"
      },
      "execution_count": null,
      "outputs": [
        {
          "output_type": "stream",
          "name": "stdout",
          "text": [
            "['감', '밤', '대추']\n",
            "['감', '밤', '대추']\n",
            "['감', '밤', '대추']\n"
          ]
        }
      ]
    },
    {
      "cell_type": "markdown",
      "source": [
        "SORT"
      ],
      "metadata": {
        "id": "ZTVn9oaav1vy"
      }
    },
    {
      "cell_type": "code",
      "source": [
        "a = [7,5,3,8,2,0,1,4,6,9]\n",
        "a.sort() #정렬해서 사용 가능하다 \n",
        "print(a)"
      ],
      "metadata": {
        "colab": {
          "base_uri": "https://localhost:8080/"
        },
        "id": "9armR0mYv4Cc",
        "outputId": "f4ce091a-2ef3-426c-c430-c4ee5d66288e"
      },
      "execution_count": null,
      "outputs": [
        {
          "output_type": "stream",
          "name": "stdout",
          "text": [
            "[0, 1, 2, 3, 4, 5, 6, 7, 8, 9]\n"
          ]
        }
      ]
    },
    {
      "cell_type": "code",
      "source": [
        "a = [7,5,3,8,2,0,1,4,6,9]\n",
        "a.sort(reverse = True) #반대로 정렬  \n",
        "print(a)"
      ],
      "metadata": {
        "colab": {
          "base_uri": "https://localhost:8080/"
        },
        "id": "sYmcAUMnwJ4a",
        "outputId": "a61631c1-5ed2-48e1-d880-365f0e5276f9"
      },
      "execution_count": null,
      "outputs": [
        {
          "output_type": "stream",
          "name": "stdout",
          "text": [
            "[9, 8, 7, 6, 5, 4, 3, 2, 1, 0]\n"
          ]
        }
      ]
    },
    {
      "cell_type": "code",
      "source": [
        "fruit = [\"kiwi\" , \"apple\" , \"Orange\",\"banana\"]\n",
        "fruit.sort() #대문자 우선 정렬\n",
        "print(fruit)\n",
        "fruit.sort(key=str.lower) #대문자 구별 하면서 정렬\n",
        "print(fruit)\n",
        "fruit.reverse()\n",
        "print(fruit)"
      ],
      "metadata": {
        "colab": {
          "base_uri": "https://localhost:8080/"
        },
        "id": "BlFCUZSPwiWU",
        "outputId": "7d7e24dd-f471-4e14-e60f-7f8cbf2a6dd2"
      },
      "execution_count": null,
      "outputs": [
        {
          "output_type": "stream",
          "name": "stdout",
          "text": [
            "['Orange', 'apple', 'banana', 'kiwi']\n",
            "['apple', 'banana', 'kiwi', 'Orange']\n",
            "['Orange', 'kiwi', 'banana', 'apple']\n"
          ]
        }
      ]
    },
    {
      "cell_type": "code",
      "source": [
        "# List 복사\n",
        "fruit = [\"Kiwi\",\"apple\",\"Orange\",\"banana\"]\n",
        "myList = fruit.copy()\n",
        "print(myList)\n",
        "cyList = list(fruit)\n",
        "print(cyList)"
      ],
      "metadata": {
        "colab": {
          "base_uri": "https://localhost:8080/"
        },
        "id": "jBH012VkzVNV",
        "outputId": "bb01b23f-6d4a-45f5-a8e3-21d9e162f25f"
      },
      "execution_count": null,
      "outputs": [
        {
          "output_type": "stream",
          "name": "stdout",
          "text": [
            "['Kiwi', 'apple', 'Orange', 'banana']\n",
            "['Kiwi', 'apple', 'Orange', 'banana']\n"
          ]
        }
      ]
    },
    {
      "cell_type": "markdown",
      "source": [
        "## 2.튜플 자료형 다양한 자료형을 순차적으로 저장하는 집합적 자료형 \n",
        "##(값을 변경할 수 없는 특징이 있음)\n",
        "\n"
      ],
      "metadata": {
        "id": "YDvXmxANz-ed"
      }
    },
    {
      "cell_type": "code",
      "source": [
        "l = [1,2,3]\n",
        "t = (5,6,7)\n",
        "print(type(l))\n",
        "print(type(t))"
      ],
      "metadata": {
        "colab": {
          "base_uri": "https://localhost:8080/"
        },
        "id": "_z-mEZAL1E95",
        "outputId": "f76069a3-a05c-4326-8176-bb3df64eb4c8"
      },
      "execution_count": null,
      "outputs": [
        {
          "output_type": "stream",
          "name": "stdout",
          "text": [
            "<class 'list'>\n",
            "<class 'tuple'>\n"
          ]
        }
      ]
    },
    {
      "cell_type": "code",
      "source": [
        "l = [1,2,3]\n",
        "t = (5,6,7)\n",
        "l[0] = 4\n",
        "print(l)\n",
        "##t[0] = 8\n",
        "print(t)"
      ],
      "metadata": {
        "colab": {
          "base_uri": "https://localhost:8080/"
        },
        "id": "drG9GAd61jX1",
        "outputId": "0d302c0a-50a2-4995-c029-17ae706db488"
      },
      "execution_count": null,
      "outputs": [
        {
          "output_type": "stream",
          "name": "stdout",
          "text": [
            "[4, 2, 3]\n",
            "(5, 6, 7)\n"
          ]
        }
      ]
    },
    {
      "cell_type": "code",
      "source": [
        "f = (\"apple\",\"banana\",\"cherry\")\n",
        "print(len(f))"
      ],
      "metadata": {
        "colab": {
          "base_uri": "https://localhost:8080/"
        },
        "id": "2JJGlVsw10PK",
        "outputId": "7e3183e6-27ba-4eab-ad47-2c5a29167852"
      },
      "execution_count": null,
      "outputs": [
        {
          "output_type": "stream",
          "name": "stdout",
          "text": [
            "3\n"
          ]
        }
      ]
    },
    {
      "cell_type": "code",
      "source": [
        "t = (\"kiwi\") #\",\"가 없어 string으로 인식식\n",
        "print(t)"
      ],
      "metadata": {
        "colab": {
          "base_uri": "https://localhost:8080/"
        },
        "id": "F9HdKm9Z2JS4",
        "outputId": "c04c2adc-1719-419f-ab38-0336eb9920fc"
      },
      "execution_count": null,
      "outputs": [
        {
          "output_type": "stream",
          "name": "stdout",
          "text": [
            "kiwi\n"
          ]
        }
      ]
    },
    {
      "cell_type": "code",
      "source": [
        "t = (\"kiwi\",) #튜플로 인식하기 위해 \",\"필요요\n",
        "print(t)  #,찍어야 string 에서 튜플이 됨됨\n",
        "print(type(t))"
      ],
      "metadata": {
        "colab": {
          "base_uri": "https://localhost:8080/"
        },
        "id": "bXRHn8kb2cZx",
        "outputId": "1b67030c-968a-44e3-e148-22bed706cbab"
      },
      "execution_count": null,
      "outputs": [
        {
          "output_type": "stream",
          "name": "stdout",
          "text": [
            "('kiwi',)\n",
            "<class 'tuple'>\n"
          ]
        }
      ]
    },
    {
      "cell_type": "code",
      "source": [
        "f = (\"banana\",\"apple\",\"kiwi\",\"cherry\",\"Orange\")\n",
        "print(f[:4])\n",
        "print(f[2:])"
      ],
      "metadata": {
        "colab": {
          "base_uri": "https://localhost:8080/"
        },
        "id": "7ATo8Rv_22VM",
        "outputId": "b529d34e-6a08-4b46-d445-dd186e1bcdca"
      },
      "execution_count": null,
      "outputs": [
        {
          "output_type": "stream",
          "name": "stdout",
          "text": [
            "('banana', 'apple', 'kiwi', 'cherry')\n",
            "('cherry', 'Orange')\n"
          ]
        }
      ]
    },
    {
      "cell_type": "code",
      "source": [
        "f = (\"banana\",\"apple\",\"kiwi\",\"cherry\",\"Orange\")\n",
        "if \"apple\" in f:\n",
        "  print(\"Yes\")\n",
        "else:\n",
        "  print(\"No\")"
      ],
      "metadata": {
        "colab": {
          "base_uri": "https://localhost:8080/"
        },
        "id": "M4dijyi73dwq",
        "outputId": "da94095d-1b68-4422-e7fa-736a1265e192"
      },
      "execution_count": null,
      "outputs": [
        {
          "output_type": "stream",
          "name": "stdout",
          "text": [
            "Yes\n"
          ]
        }
      ]
    },
    {
      "cell_type": "markdown",
      "source": [
        "### Tuple <->List"
      ],
      "metadata": {
        "id": "jyMq02UR31zR"
      }
    },
    {
      "cell_type": "code",
      "source": [
        "# 튜플에 추가하는 방법 \n",
        "t = (\"apple\",\"banana\",\"cherry\")\n",
        "y = list(t) #튜플로 되있는 걸 리스트로 바꿈꿈\n",
        "print(type(y))\n",
        "y.append(\"Orange\")\n",
        "t = tuple(y)\n",
        "print(t)"
      ],
      "metadata": {
        "colab": {
          "base_uri": "https://localhost:8080/"
        },
        "id": "XOgEq6gx3733",
        "outputId": "4db20c50-e937-4524-ad0c-c1370e172526"
      },
      "execution_count": null,
      "outputs": [
        {
          "output_type": "stream",
          "name": "stdout",
          "text": [
            "<class 'list'>\n",
            "('apple', 'banana', 'cherry', 'Orange')\n"
          ]
        }
      ]
    },
    {
      "cell_type": "code",
      "source": [
        "# List ->Tuple\n",
        "company = [\"LG\",\"Sk\",\"Apple\"]\n",
        "t = tuple(company)\n",
        "print(company) #리스트\n",
        "print(t) #튜플"
      ],
      "metadata": {
        "colab": {
          "base_uri": "https://localhost:8080/"
        },
        "id": "nUCz2APF47gh",
        "outputId": "df04357d-98ce-4bed-83ff-7a0dc96624e6"
      },
      "execution_count": null,
      "outputs": [
        {
          "output_type": "stream",
          "name": "stdout",
          "text": [
            "['LG', 'Sk', 'Apple']\n",
            "('LG', 'Sk', 'Apple')\n"
          ]
        }
      ]
    },
    {
      "cell_type": "code",
      "source": [
        "c = (\"LG\",\"SK\",\"Apple\")\n",
        "d = (\"Samsung\",)\n",
        "c += d # c= c+d 간략화 해서 씀 \n",
        "print(c)"
      ],
      "metadata": {
        "colab": {
          "base_uri": "https://localhost:8080/"
        },
        "id": "6WrKaJfY6MyY",
        "outputId": "412e44d3-ef74-48b7-d2f1-da4eb3ec75db"
      },
      "execution_count": null,
      "outputs": [
        {
          "output_type": "stream",
          "name": "stdout",
          "text": [
            "('LG', 'SK', 'Apple', 'Samsung')\n"
          ]
        }
      ]
    },
    {
      "cell_type": "code",
      "source": [
        "t = (\"감\",\"밤\",\"대추\")\n",
        "ㅣ = list(t)\n"
      ],
      "metadata": {
        "id": "tfWhola26pnj"
      },
      "execution_count": null,
      "outputs": []
    },
    {
      "cell_type": "markdown",
      "source": [
        "## 3. Dict 사전자료형형"
      ],
      "metadata": {
        "id": "wuNM8ivTBnpH"
      }
    },
    {
      "cell_type": "code",
      "source": [
        "d = {\n",
        "    \"a\":1,\n",
        "    \"b\":2,\n",
        "    \"c\":3\n",
        "}\n",
        "print(d)\n",
        "print(type(d))"
      ],
      "metadata": {
        "colab": {
          "base_uri": "https://localhost:8080/"
        },
        "id": "XcP7yX7aB8YT",
        "outputId": "ed7db6aa-058a-478c-aec5-a52531962d73"
      },
      "execution_count": null,
      "outputs": [
        {
          "output_type": "stream",
          "name": "stdout",
          "text": [
            "{'a': 1, 'b': 2, 'c': 3}\n",
            "<class 'dict'>\n"
          ]
        }
      ]
    },
    {
      "cell_type": "code",
      "source": [
        "d = {\n",
        "    \"a\":1,\n",
        "    \"b\":2,\n",
        "    \"c\":3\n",
        "}\n",
        "print(d.keys())\n",
        "print(d.values())\n",
        "print(d.items())"
      ],
      "metadata": {
        "colab": {
          "base_uri": "https://localhost:8080/"
        },
        "id": "lA0RXsklCLGg",
        "outputId": "8db29403-0447-4e87-b3a2-4017f594d051"
      },
      "execution_count": null,
      "outputs": [
        {
          "output_type": "stream",
          "name": "stdout",
          "text": [
            "dict_keys(['a', 'b', 'c'])\n",
            "dict_values([1, 2, 3])\n",
            "dict_items([('a', 1), ('b', 2), ('c', 3)])\n"
          ]
        }
      ]
    },
    {
      "cell_type": "code",
      "source": [
        "car = {\n",
        "    \"maker\" : \"Hyundai\",\n",
        "    \"model\" : \"Pony2\",\n",
        "    \"year\" : 1994\n",
        "}\n",
        "print(car)\n",
        "print(len(car))\n",
        "car[\"year\"] = 2000\n",
        "print(car)\n",
        "car[\"color\"] = \"Blue\"\n",
        "print(car)\n",
        "print()\n",
        "print(car[\"maker\"])"
      ],
      "metadata": {
        "colab": {
          "base_uri": "https://localhost:8080/"
        },
        "id": "Vz1cBPOiCuQV",
        "outputId": "98f9e1b4-e304-49db-c1e4-f7297b7bf21c"
      },
      "execution_count": null,
      "outputs": [
        {
          "output_type": "stream",
          "name": "stdout",
          "text": [
            "{'maker': 'Hyundai', 'model': 'Pony2', 'year': 1994}\n",
            "3\n",
            "{'maker': 'Hyundai', 'model': 'Pony2', 'year': 2000}\n",
            "{'maker': 'Hyundai', 'model': 'Pony2', 'year': 2000, 'color': 'Blue'}\n",
            "\n",
            "Hyundai\n"
          ]
        }
      ]
    },
    {
      "cell_type": "code",
      "source": [
        "car = {\n",
        "    \"maker\" : \"bmw\",\n",
        "    \"model\" : \"740Li\",\n",
        "    \"year\" : 2023\n",
        "}\n",
        "car.pop(\"model\") # 해당 키 값을 삭제\n",
        "print(car)\n"
      ],
      "metadata": {
        "colab": {
          "base_uri": "https://localhost:8080/"
        },
        "id": "vu0S9SvtETJu",
        "outputId": "626b7248-7fd4-4968-8f40-81ec73804574"
      },
      "execution_count": null,
      "outputs": [
        {
          "output_type": "stream",
          "name": "stdout",
          "text": [
            "{'maker': 'bmw', 'year': 2023}\n"
          ]
        }
      ]
    },
    {
      "cell_type": "code",
      "source": [
        "car = {\n",
        "    \"maker\" : \"bmw\",\n",
        "    \"model\" : \"GT\",\n",
        "    \"year\" : 2023\n",
        "}\n",
        "car.popitem() #맨뒤 삭제\n",
        "print(car)"
      ],
      "metadata": {
        "colab": {
          "base_uri": "https://localhost:8080/"
        },
        "id": "UY0Yj37PE0z4",
        "outputId": "8a3d3b7a-ca22-4587-fae2-1c0116bbf319"
      },
      "execution_count": null,
      "outputs": [
        {
          "output_type": "stream",
          "name": "stdout",
          "text": [
            "{'maker': 'bmw', 'model': 'GT'}\n"
          ]
        }
      ]
    },
    {
      "cell_type": "code",
      "source": [
        "car = {\n",
        "    \"maker\" : \"bmw\",\n",
        "    \"model\" : \"GT\",\n",
        "    \"year\" : 2023\n",
        "}\n",
        "car.clear() #비움\n",
        "print(car)\n",
        "car[\"maker\"] = \"KIA\"\n",
        "print(car)"
      ],
      "metadata": {
        "colab": {
          "base_uri": "https://localhost:8080/"
        },
        "id": "yErSoCuCFGYV",
        "outputId": "f144b645-bb8a-4ee3-a65d-f611a619924e"
      },
      "execution_count": null,
      "outputs": [
        {
          "output_type": "stream",
          "name": "stdout",
          "text": [
            "{}\n",
            "{'maker': 'KIA'}\n"
          ]
        }
      ]
    },
    {
      "cell_type": "code",
      "source": [
        "car = {\n",
        "    \"maker\" : \"bmw\",\n",
        "    \"model\" : \"GT\",\n",
        "    \"year\" : 2023\n",
        "}\n",
        "del car\n",
        "#print(car) -> 통째로 다 지워졌기 때문에 print를 쓰면 오류가 남남"
      ],
      "metadata": {
        "id": "F0WDwrNxFgVw"
      },
      "execution_count": null,
      "outputs": []
    },
    {
      "cell_type": "markdown",
      "source": [
        "#Loop"
      ],
      "metadata": {
        "id": "6wmWcMCCGA93"
      }
    },
    {
      "cell_type": "code",
      "source": [
        "car = {\n",
        "    \"maker\" : \"bmw\",\n",
        "    \"model\" : \"i4\",\n",
        "    \"year\" : 2023\n",
        "}\n",
        "for x in car :\n",
        "  print(car[x])"
      ],
      "metadata": {
        "colab": {
          "base_uri": "https://localhost:8080/"
        },
        "id": "mBA11NmKGEk2",
        "outputId": "c5ca8f86-739d-4d18-dc03-a8a0c5c1a0dd"
      },
      "execution_count": null,
      "outputs": [
        {
          "output_type": "stream",
          "name": "stdout",
          "text": [
            "bmw\n",
            "i4\n",
            "2023\n"
          ]
        }
      ]
    },
    {
      "cell_type": "code",
      "source": [
        "car = {\n",
        "    \"maker\" : \"bmw\",\n",
        "    \"model\" : \"i4\",\n",
        "    \"year\" : 2023\n",
        "}\n",
        "for x in car.keys() :\n",
        "  print(x)"
      ],
      "metadata": {
        "colab": {
          "base_uri": "https://localhost:8080/"
        },
        "id": "C4BEqeyEGbCE",
        "outputId": "99ce02db-ab6c-4429-caa4-fd7a0580ba00"
      },
      "execution_count": null,
      "outputs": [
        {
          "output_type": "stream",
          "name": "stdout",
          "text": [
            "maker\n",
            "model\n",
            "year\n"
          ]
        }
      ]
    },
    {
      "cell_type": "code",
      "source": [
        "car = {\n",
        "    \"maker\" : \"bmw\",\n",
        "    \"model\" : \"i4\",\n",
        "    \"year\" : 2023\n",
        "}\n",
        "for x in car.values() :\n",
        "  print(x)"
      ],
      "metadata": {
        "colab": {
          "base_uri": "https://localhost:8080/"
        },
        "id": "9UDfzv6mGlvQ",
        "outputId": "9afa967c-4aa8-4dc6-a3ee-961bbab8e51e"
      },
      "execution_count": null,
      "outputs": [
        {
          "output_type": "stream",
          "name": "stdout",
          "text": [
            "bmw\n",
            "i4\n",
            "2023\n"
          ]
        }
      ]
    },
    {
      "cell_type": "code",
      "source": [
        "car = {\n",
        "    \"maker\" : \"bmw\",\n",
        "    \"model\" : \"i4\",\n",
        "    \"year\" : 2023\n",
        "}\n",
        "for x in car.items() :\n",
        "  print(x,y) # item 값은 한 쌍이므로 임의로 x,y 두개를 넣어 줘야 한다. "
      ],
      "metadata": {
        "colab": {
          "base_uri": "https://localhost:8080/"
        },
        "id": "4Ra5hKoKGqj1",
        "outputId": "ca2dfc78-e794-44b9-f400-55cd35439016"
      },
      "execution_count": null,
      "outputs": [
        {
          "output_type": "stream",
          "name": "stdout",
          "text": [
            "('maker', 'bmw') ['apple', 'banana', 'cherry', 'Orange']\n",
            "('model', 'i4') ['apple', 'banana', 'cherry', 'Orange']\n",
            "('year', 2023) ['apple', 'banana', 'cherry', 'Orange']\n"
          ]
        }
      ]
    },
    {
      "cell_type": "code",
      "source": [
        "car = {\n",
        "    \"maker\" : \"bmw\",\n",
        "    \"model\" : \"i4\",\n",
        "    \"year\" : 2023\n",
        "}\n",
        "myCar = car.copy()\n",
        "print(myCar)"
      ],
      "metadata": {
        "colab": {
          "base_uri": "https://localhost:8080/"
        },
        "id": "O9WFFcPeHQxn",
        "outputId": "42e13771-8839-4d54-be62-3068736da725"
      },
      "execution_count": null,
      "outputs": [
        {
          "output_type": "stream",
          "name": "stdout",
          "text": [
            "{'maker': 'bmw', 'model': 'i4', 'year': 2023}\n"
          ]
        }
      ]
    },
    {
      "cell_type": "code",
      "source": [
        "food = {\n",
        "    \"brand\":\"Lotte\",\n",
        "    \"model\":\"ice cream\",\n",
        "    \"price\":2000\n",
        "}\n",
        "myFood = dict(food)\n",
        "print(myFood)"
      ],
      "metadata": {
        "colab": {
          "base_uri": "https://localhost:8080/"
        },
        "id": "vp45iEg7Hzz9",
        "outputId": "51bc0b90-b54e-4fe4-c1bb-73651985bed1"
      },
      "execution_count": null,
      "outputs": [
        {
          "output_type": "stream",
          "name": "stdout",
          "text": [
            "{'brand': 'Lotte', 'model': 'ice cream', 'price': 2000}\n"
          ]
        }
      ]
    },
    {
      "cell_type": "code",
      "source": [
        "name1 = {\"name\":\"김삿갓\",\"year\":1900}\n",
        "name2 = {\"name\":\"홍길동\",\"year\":1800}\n",
        "name3 = {\"name\":\"김유진\",\"year\":2000}\n",
        "family = {\n",
        "    \"name1\" : name1,\n",
        "    \"name2\" : name2,\n",
        "    \"name3\" : name3\n",
        "}\n",
        "print(family)"
      ],
      "metadata": {
        "colab": {
          "base_uri": "https://localhost:8080/"
        },
        "id": "C6MgbC3oIiQC",
        "outputId": "42866ac8-667b-4c64-e3b0-26d738792bcf"
      },
      "execution_count": null,
      "outputs": [
        {
          "output_type": "stream",
          "name": "stdout",
          "text": [
            "{'name1': {'name': '김삿갓', 'year': 1900}, 'name2': {'name': '홍길동', 'year': 1800}, 'name3': {'name': '김유진', 'year': 2000}}\n"
          ]
        }
      ]
    },
    {
      "cell_type": "code",
      "source": [
        "name = {}\n",
        "for i in range(0,3):\n",
        "  a= input(\"이름: \"),\n",
        "  b= input(\"전화번호: \")\n",
        "  name[a]=b\n",
        "print (name)"
      ],
      "metadata": {
        "colab": {
          "base_uri": "https://localhost:8080/"
        },
        "id": "o_YM7w1mJ1oM",
        "outputId": "a81e3de2-d991-40e4-a2b0-ce06a4ee20fe"
      },
      "execution_count": null,
      "outputs": [
        {
          "output_type": "stream",
          "name": "stdout",
          "text": [
            "이름: 윤웅배\n",
            "전화번호: 0\n",
            "이름: ㅇ\n",
            "전화번호: ㅇ\n",
            "이름: ㅁㄴ\n",
            "전화번호: ㄴ\n",
            "{('윤웅배',): '0', ('ㅇ',): 'ㅇ', ('ㅁㄴ',): 'ㄴ'}\n"
          ]
        }
      ]
    },
    {
      "cell_type": "markdown",
      "source": [
        "CH4 조건문 , 반복문\n",
        "\n",
        "1.조건문문"
      ],
      "metadata": {
        "id": "O31JT014saj1"
      }
    },
    {
      "cell_type": "code",
      "source": [
        "a = int(input(\"숫자입력:\"))\n",
        "\n",
        "if a > 50:\n",
        "  if a < 100 :\n",
        "    print(\"50보다 크고 100보다 작군요.\")\n",
        "  else :\n",
        "        print(\"와~~ 100보다 크군요.\")\n",
        "else :\n",
        "        print(\"에고~ 50보다 작군요.\")       "
      ],
      "metadata": {
        "colab": {
          "base_uri": "https://localhost:8080/"
        },
        "id": "hKU8W9PuseTI",
        "outputId": "b66ed9e8-58e6-4547-cc0d-dcfcf35a51ee"
      },
      "execution_count": null,
      "outputs": [
        {
          "output_type": "stream",
          "name": "stdout",
          "text": [
            "숫자입력:3\n",
            "에고~ 50보다 작군요.\n"
          ]
        }
      ]
    },
    {
      "cell_type": "code",
      "source": [
        "#성적처리\n",
        "score = int(input(\"점수를 입력해 주새요 : \"))\n",
        "\n",
        "if(score > 100):\n",
        "  print(\"0~100점까지 숫자로 입력하세요\")\n",
        "elif(score >=90):\n",
        "      print(\"A\",end='')\n",
        "elif(score>=80):\n",
        "  print(\"B\",end='')  \n",
        "elif(score>=70):\n",
        "  print(\"C\",end='')\n",
        "elif(score>=80):\n",
        "  print(\"D\",end='')  \n",
        "else:\n",
        "  print(\"F\",end='')\n",
        "print(\"학점, %d점 입니다.\" % score)         "
      ],
      "metadata": {
        "colab": {
          "base_uri": "https://localhost:8080/"
        },
        "id": "NKl2eIqjtgJQ",
        "outputId": "c6775bf9-27c4-4a66-ea33-546bd65e7211"
      },
      "execution_count": null,
      "outputs": [
        {
          "output_type": "stream",
          "name": "stdout",
          "text": [
            "점수를 입력해 주새요 : 75\n",
            "C학점, 75점 입니다.\n"
          ]
        }
      ]
    },
    {
      "cell_type": "code",
      "source": [
        "import random\n",
        "\n",
        "numbers = []\n",
        "for num in range(0,10): \n",
        "  numbers.append (random.randrange(0,10))\n",
        "\n",
        "print(\"생선된 리스트\", numbers)\n",
        "\n",
        "for num in range(0,10):\n",
        "  if num not in numbers: \n",
        "    if num not in numbers: #not in 리스트에 없으면 참참\n",
        "      print(\"숫자 %d는 리스트에 없음\" %num)\n",
        "  else:\n",
        "    print(\"숫자 %d는 리스트에 있음\"%num)\n",
        "\n",
        "\n"
      ],
      "metadata": {
        "colab": {
          "base_uri": "https://localhost:8080/"
        },
        "id": "P26OXb9WvyqI",
        "outputId": "0384402d-cd0c-4026-883f-e23cec08d642"
      },
      "execution_count": null,
      "outputs": [
        {
          "output_type": "stream",
          "name": "stdout",
          "text": [
            "생선된 리스트 [3, 3, 4, 4, 0, 1, 0, 7, 8, 2]\n",
            "숫자 0는 리스트에 있음\n",
            "숫자 1는 리스트에 있음\n",
            "숫자 2는 리스트에 있음\n",
            "숫자 3는 리스트에 있음\n",
            "숫자 4는 리스트에 있음\n",
            "숫자 5는 리스트에 없음\n",
            "숫자 6는 리스트에 없음\n",
            "숫자 7는 리스트에 있음\n",
            "숫자 8는 리스트에 있음\n",
            "숫자 9는 리스트에 없음\n"
          ]
        }
      ]
    },
    {
      "cell_type": "markdown",
      "source": [],
      "metadata": {
        "id": "Qw8P3rMhMhAK"
      }
    },
    {
      "cell_type": "code",
      "source": [
        "#조선문 이용\n",
        "select, answer ,num1,num2,numStr = 0,0,0,0,\"\"\n",
        "\n",
        "select = int(input(\"1.입력한 수식계산,2. 두수의 합\"))\n",
        "\n",
        "if(select==1):\n",
        "  numStr = input(\"수식을 입력하세요 (1+2):\")\n",
        "  answer = eval(numStr) # 1+2,\"s\"+\"t\"\n",
        "  print(\"%s 결과는 %5.1f입니다.\"%(numStr.answer))\n",
        "\n",
        "elif(select==2):\n",
        "  num1 = int(input(\"*첫번째 숫자를 입력하세요:\"))\n",
        "  num2 = int(input(\"**두두번째 숫자를 입력하세요:\"))\n",
        "  for k in range(num1,num2+1):\n",
        "    answer = answer + k\n",
        "  print(\"%d...+%d는 %d입니다\" %(num1,num2,answer))\n",
        "\n",
        "else:\n",
        "    print(\"1 또는 2만 입력하세요\")  "
      ],
      "metadata": {
        "colab": {
          "base_uri": "https://localhost:8080/"
        },
        "id": "3BeMD_4X4P26",
        "outputId": "f0f0c4ac-2d82-495c-97c7-23e48dd21bbf"
      },
      "execution_count": null,
      "outputs": [
        {
          "output_type": "stream",
          "name": "stdout",
          "text": [
            "1.입력한 수식계산,2. 두수의 합2\n",
            "*첫번째 숫자를 입력하세요:4\n",
            "**두두번째 숫자를 입력하세요:6\n",
            "4...+6는 15입니다\n"
          ]
        }
      ]
    },
    {
      "cell_type": "markdown",
      "source": [
        "##2. 반복문 for &while \n"
      ],
      "metadata": {
        "id": "eidOhbl369U2"
      }
    },
    {
      "cell_type": "code",
      "source": [
        "for i in range(0,3,1):\n",
        "  print(\"안녕!! %d\"%i)"
      ],
      "metadata": {
        "colab": {
          "base_uri": "https://localhost:8080/"
        },
        "id": "0s46t6UW7G5i",
        "outputId": "bb03a13d-0144-4a73-fa0e-d3f082470594"
      },
      "execution_count": null,
      "outputs": [
        {
          "output_type": "stream",
          "name": "stdout",
          "text": [
            "안녕!! 0\n",
            "안녕!! 1\n",
            "안녕!! 2\n"
          ]
        }
      ]
    },
    {
      "cell_type": "code",
      "source": [
        "i,j=0,0\n",
        "for i in range(2,10,1):\n",
        "  for j in range(1,10,1):\n",
        "    print(\"%dx%d = %2d \" %(i,j,i*j),end='')\n",
        "  print(\"\")"
      ],
      "metadata": {
        "colab": {
          "base_uri": "https://localhost:8080/"
        },
        "id": "Mr26M2UY7ZG4",
        "outputId": "b304937f-08b1-4bb8-f624-0fb1249f5650"
      },
      "execution_count": null,
      "outputs": [
        {
          "output_type": "stream",
          "name": "stdout",
          "text": [
            "2x1 =  2 2x2 =  4 2x3 =  6 2x4 =  8 2x5 = 10 2x6 = 12 2x7 = 14 2x8 = 16 2x9 = 18 \n",
            "3x1 =  3 3x2 =  6 3x3 =  9 3x4 = 12 3x5 = 15 3x6 = 18 3x7 = 21 3x8 = 24 3x9 = 27 \n",
            "4x1 =  4 4x2 =  8 4x3 = 12 4x4 = 16 4x5 = 20 4x6 = 24 4x7 = 28 4x8 = 32 4x9 = 36 \n",
            "5x1 =  5 5x2 = 10 5x3 = 15 5x4 = 20 5x5 = 25 5x6 = 30 5x7 = 35 5x8 = 40 5x9 = 45 \n",
            "6x1 =  6 6x2 = 12 6x3 = 18 6x4 = 24 6x5 = 30 6x6 = 36 6x7 = 42 6x8 = 48 6x9 = 54 \n",
            "7x1 =  7 7x2 = 14 7x3 = 21 7x4 = 28 7x5 = 35 7x6 = 42 7x7 = 49 7x8 = 56 7x9 = 63 \n",
            "8x1 =  8 8x2 = 16 8x3 = 24 8x4 = 32 8x5 = 40 8x6 = 48 8x7 = 56 8x8 = 64 8x9 = 72 \n",
            "9x1 =  9 9x2 = 18 9x3 = 27 9x4 = 36 9x5 = 45 9x6 = 54 9x7 = 63 9x8 = 72 9x9 = 81 \n"
          ]
        }
      ]
    },
    {
      "cell_type": "code",
      "source": [
        "#while문\n",
        "j = 0\n",
        "while j<3:\n",
        "  print(\"%d : while문\" %j)\n",
        "  j = i + 1"
      ],
      "metadata": {
        "colab": {
          "base_uri": "https://localhost:8080/"
        },
        "id": "vBeUjRJL9noA",
        "outputId": "7693d087-cb9a-4e82-c83e-c2d5004bb185"
      },
      "execution_count": null,
      "outputs": [
        {
          "output_type": "stream",
          "name": "stdout",
          "text": [
            "0 : while문\n"
          ]
        }
      ]
    },
    {
      "cell_type": "markdown",
      "source": [
        "##for while 1~10까지의 합을 구하는 코드를 작성하시오 "
      ],
      "metadata": {
        "id": "Wg2VGM3s-ZJl"
      }
    },
    {
      "cell_type": "code",
      "source": [
        "i,hap = 0,0\n",
        "i = 1\n",
        "while i<11:\n",
        "  hap = hap + i\n",
        "  i=i+1\n",
        "print(\"1~10까지의 합은 %d\"%hap)\n"
      ],
      "metadata": {
        "colab": {
          "base_uri": "https://localhost:8080/"
        },
        "id": "ktpgD61f-fd5",
        "outputId": "4d64e597-3d0c-4b47-c073-8cbc57dc17e5"
      },
      "execution_count": null,
      "outputs": [
        {
          "output_type": "stream",
          "name": "stdout",
          "text": [
            "1~10까지의 합은 55\n"
          ]
        }
      ]
    },
    {
      "cell_type": "code",
      "source": [
        "#for\n",
        "i, hap = 0,0\n",
        "for i in range(1,11,1):\n",
        "  hap = hap +i\n",
        "print(\"1~10까지 합은 %d\"%hap)"
      ],
      "metadata": {
        "colab": {
          "base_uri": "https://localhost:8080/"
        },
        "id": "EMd0vc2MBDKc",
        "outputId": "c3e25ebb-bfba-454c-9fc5-224938f7d21e"
      },
      "execution_count": null,
      "outputs": [
        {
          "output_type": "stream",
          "name": "stdout",
          "text": [
            "1~10까지 합은 55\n"
          ]
        }
      ]
    },
    {
      "cell_type": "code",
      "source": [
        "while True:        #안에 있는 게 참이면 계속 반복된다.\n",
        "  print(\"무한 루프\",end='')\n",
        "  break  # 멈추는 기능  "
      ],
      "metadata": {
        "colab": {
          "base_uri": "https://localhost:8080/"
        },
        "id": "a5NQA6hCBUVW",
        "outputId": "99697dc4-f606-48f8-cb43-bf29f2ef03e2"
      },
      "execution_count": null,
      "outputs": [
        {
          "output_type": "stream",
          "name": "stdout",
          "text": [
            "무한 루프"
          ]
        }
      ]
    },
    {
      "cell_type": "code",
      "source": [
        "#break\n",
        "for i in range(1,100):\n",
        "  print(\"for문 %d번 실험\"%i)\n",
        "  break\n",
        "print(\"break 빠짐\")"
      ],
      "metadata": {
        "colab": {
          "base_uri": "https://localhost:8080/"
        },
        "id": "5OGSpkAeCY07",
        "outputId": "ea20e480-fc54-48c5-8740-c0ccbc0a0fcc"
      },
      "execution_count": null,
      "outputs": [
        {
          "output_type": "stream",
          "name": "stdout",
          "text": [
            "for문 1번 실험\n",
            "break 빠짐\n"
          ]
        }
      ]
    },
    {
      "cell_type": "code",
      "source": [
        "hap = 0\n",
        "a,b = 0,0\n",
        "while True:\n",
        "  a=int(input(\"덧셈 첫번째 수 입력: \"))\n",
        "  if a==0:\n",
        "    break\n",
        "  b=int(input(\"덧셈 두번쨰 수 입력:\"))\n",
        "  hap = a + b\n",
        "  print(\"%d+ %d = %d\" %(a,b,hap))\n",
        "\n",
        "print(\"break로 탈출\")"
      ],
      "metadata": {
        "colab": {
          "base_uri": "https://localhost:8080/"
        },
        "id": "BIKZMcEUHo6h",
        "outputId": "bec98cee-7625-4794-e754-2bf02dc17b8e"
      },
      "execution_count": null,
      "outputs": [
        {
          "output_type": "stream",
          "name": "stdout",
          "text": [
            "덧셈 첫번째 수 입력: 1\n",
            "덧셈 두번쨰 수 입력:2\n",
            "1+ 2 = 3\n",
            "덧셈 첫번째 수 입력: 3\n",
            "덧셈 두번쨰 수 입력:0\n",
            "3+ 0 = 3\n",
            "덧셈 첫번째 수 입력: 0\n",
            "break로 탈출\n"
          ]
        }
      ]
    },
    {
      "cell_type": "code",
      "source": [
        "#continue\n",
        "hap, i = 0,0\n",
        "for i in range(1,11):\n",
        "  if i%2  == 0: # 2로 나눈 나머지지\n",
        "    print(\"i:%d\"%i)\n",
        "    continue #\n",
        "  hap += i\n",
        "print(\"1~10 합계(2의 배수 제외): %d\" %hap)"
      ],
      "metadata": {
        "colab": {
          "base_uri": "https://localhost:8080/"
        },
        "id": "F5wB4AdhJtKK",
        "outputId": "00d8f33d-8c6e-40bb-afcb-04e4c11b6b97"
      },
      "execution_count": null,
      "outputs": [
        {
          "output_type": "stream",
          "name": "stdout",
          "text": [
            "i:2\n",
            "i:4\n",
            "i:6\n",
            "i:8\n",
            "i:10\n",
            "1~10 합계(2의 배수 제외): 25\n"
          ]
        }
      ]
    },
    {
      "cell_type": "code",
      "source": [
        "fruits = [\"감\",\"밤\",\"대추\"]\n",
        "for x in fruits:\n",
        "  if x ==\"밤\":\n",
        "    continue\n",
        "  print(x)"
      ],
      "metadata": {
        "colab": {
          "base_uri": "https://localhost:8080/"
        },
        "id": "NuE-ZxwSLxDO",
        "outputId": "595a5d30-71d4-449d-fdc4-3f740d413bfd"
      },
      "execution_count": null,
      "outputs": [
        {
          "output_type": "stream",
          "name": "stdout",
          "text": [
            "감\n",
            "대추\n"
          ]
        }
      ]
    },
    {
      "cell_type": "code",
      "source": [
        "for x in range(6):\n",
        "  if x ==3:continue # continue 일 경우 3일때만 건너 뜀 break 일때는 3까지만 나옴  \n",
        "  print(x)\n",
        "else:\n",
        "  print(\"끝\")"
      ],
      "metadata": {
        "colab": {
          "base_uri": "https://localhost:8080/"
        },
        "id": "RST3HZpVMHVT",
        "outputId": "d5fe406a-c9b7-4ae9-c752-b05be28b12e6"
      },
      "execution_count": null,
      "outputs": [
        {
          "output_type": "stream",
          "name": "stdout",
          "text": [
            "0\n",
            "1\n",
            "2\n",
            "4\n",
            "5\n",
            "끝\n"
          ]
        }
      ]
    },
    {
      "cell_type": "code",
      "source": [
        "# pass for문 에러를 피하기 위해 실행하지 않을 때 사용  \n",
        "for x in [0,1,2]: \n",
        "  pass"
      ],
      "metadata": {
        "id": "jHJbNQGcM9Ys"
      },
      "execution_count": null,
      "outputs": []
    },
    {
      "cell_type": "markdown",
      "source": [
        "##4.함수  "
      ],
      "metadata": {
        "id": "RnS73_VPNWKX"
      }
    },
    {
      "cell_type": "code",
      "source": [
        "def plus(v1,v2):\n",
        "  result = 0\n",
        "  result = v1 +v2\n",
        "  return result\n",
        "\n",
        "hap = 0\n",
        "hap = plus(1,2)\n",
        "print(\"1+2=%d\" %hap)\n",
        "hap = plus(4,8)\n",
        "print(\"4+8=%d\" %hap)"
      ],
      "metadata": {
        "colab": {
          "base_uri": "https://localhost:8080/"
        },
        "id": "5DouRX0-NY9k",
        "outputId": "c66866ef-8f94-4cab-ce67-47d6e89c5762"
      },
      "execution_count": null,
      "outputs": [
        {
          "output_type": "stream",
          "name": "stdout",
          "text": [
            "1+2=3\n",
            "4+8=12\n"
          ]
        }
      ]
    },
    {
      "cell_type": "code",
      "source": [
        "#계산기\n",
        "def calc(v1,v2,op):\n",
        "  result = 0\n",
        "  if op=='+':\n",
        "    result = v1 + v2\n",
        "  elif op=='-':\n",
        "    result = v1 -v2\n",
        "  elif op=='/':\n",
        "    result = v1 / v2\n",
        "  elif op=='*':\n",
        "    result = v1 *v2\n",
        "  return result\n",
        "rst = 0\n",
        "var1,var2,opr = 0,0,\"\"\n",
        "\n",
        "opr = input(\"(+,-,/,*)입력:\")\n",
        "var1 = int(input(\"1번째 숫자 입력:\"))\n",
        "var2 = int(input(\"2번째 숫자 입력:\"))\n",
        "\n",
        "rst = calc(var1,var2,opr)\n",
        "print(\"계산결과:%d %s %d = %d\" %(var1, opr,var2,rst))"
      ],
      "metadata": {
        "colab": {
          "base_uri": "https://localhost:8080/"
        },
        "id": "7Ekad8HmOrGU",
        "outputId": "bf979cf6-b2e1-46f3-89a8-7dffa1ac52c2"
      },
      "execution_count": null,
      "outputs": [
        {
          "output_type": "stream",
          "name": "stdout",
          "text": [
            "(+,-,/,*)입력:*\n",
            "1번째 숫자 입력:1\n",
            "2번째 숫자 입력:3\n",
            "계산결과:1 * 3 = 3\n"
          ]
        }
      ]
    },
    {
      "cell_type": "markdown",
      "source": [
        "##0으로 나누면 메시지 출력, 계산되지 않고 ,제곱(**)연산자 기능 추가.(숫자1,연산자,숫자2) 순서로 입력하게 변경  "
      ],
      "metadata": {
        "id": "r2uK4TApRYQh"
      }
    },
    {
      "cell_type": "code",
      "source": [
        "#@title 기본 제목 텍스트\n",
        "# 계산기 \n",
        "rst = 0\n",
        "var1, var2, opr = 0,0,\"\"\n",
        "while True:\n",
        "  var1 = int(input(\"1번째 숫자 입력: \"))\n",
        "  if var1 == 0:           # 첫번째 수 0 입력시 종료  \n",
        "    print(\"계산기를 종료하였습니다.\")\n",
        "    break\n",
        "  opr = input(\"(+, -, /, *, **)입력: \")\n",
        "  var2 = int(input(\"2번째 숫자 입력: \"))\n",
        "  if opr == '/':\n",
        "    if var2==0:             # 나눌 때 두번째 수가 0이면 재시작  \n",
        "      print(\"0으로 나눌수 없습니다. 다시 입력해 주세요.\")\n",
        "      continue\n",
        "  def calc(v1,v2,op):\n",
        "    result = 0\n",
        "    if op == '+':\n",
        "      result = v1 + v2\n",
        "    elif op == '-':\n",
        "      result = v1 - v2\n",
        "    elif op == '/':   \n",
        "      result = v1 / v2\n",
        "    elif op == '*':\n",
        "      result = v1 * v2\n",
        "    elif op == '**':\n",
        "      result = v1 ** v2\n",
        "    return result\n",
        "  rst = calc(var1,var2, opr)\n",
        "  print(\"계산결과 %d %s %d = %.2f 이다\" % (var1,opr,var2,rst))"
      ],
      "metadata": {
        "colab": {
          "base_uri": "https://localhost:8080/"
        },
        "id": "tG63ObLxRtVn",
        "outputId": "0eb0bb52-5043-4eb4-d596-05c3e08b1ffd",
        "cellView": "code"
      },
      "execution_count": 13,
      "outputs": [
        {
          "output_type": "stream",
          "name": "stdout",
          "text": [
            "1번째 숫자 입력: 5\n",
            "(+, -, /, *, **)입력: /\n",
            "2번째 숫자 입력: 0\n",
            "0으로 나눌수 없습니다. 다시 입력해 주세요.\n",
            "1번째 숫자 입력: 5\n",
            "(+, -, /, *, **)입력: **\n",
            "2번째 숫자 입력: 3\n",
            "계산결과 5 ** 3 = 125.00 이다\n",
            "1번째 숫자 입력: 0\n",
            "계산기를 종료하였습니다.\n"
          ]
        }
      ]
    }
  ]
}